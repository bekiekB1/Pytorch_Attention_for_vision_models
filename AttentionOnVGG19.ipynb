{
  "nbformat": 4,
  "nbformat_minor": 0,
  "metadata": {
    "colab": {
      "name": "AttentionOnVGG19.ipynb",
      "provenance": [],
      "collapsed_sections": []
    },
    "kernelspec": {
      "name": "python3",
      "display_name": "Python 3"
    },
    "language_info": {
      "name": "python"
    },
    "widgets": {
      "application/vnd.jupyter.widget-state+json": {
        "a3149fc7cc1b492c9faf2f27030de331": {
          "model_module": "@jupyter-widgets/controls",
          "model_name": "HBoxModel",
          "model_module_version": "1.5.0",
          "state": {
            "_view_name": "HBoxView",
            "_dom_classes": [],
            "_model_name": "HBoxModel",
            "_view_module": "@jupyter-widgets/controls",
            "_model_module_version": "1.5.0",
            "_view_count": null,
            "_view_module_version": "1.5.0",
            "box_style": "",
            "layout": "IPY_MODEL_e519c722a2cc4f518fac771d3c9232b9",
            "_model_module": "@jupyter-widgets/controls",
            "children": [
              "IPY_MODEL_4bceb3cd48e1430a8bd6bced137612f9",
              "IPY_MODEL_a02f5aa219d34da5b83927972b2b9e59",
              "IPY_MODEL_d866f560acd44b0da95e212fa30df871"
            ]
          }
        },
        "e519c722a2cc4f518fac771d3c9232b9": {
          "model_module": "@jupyter-widgets/base",
          "model_name": "LayoutModel",
          "model_module_version": "1.2.0",
          "state": {
            "_view_name": "LayoutView",
            "grid_template_rows": null,
            "right": null,
            "justify_content": null,
            "_view_module": "@jupyter-widgets/base",
            "overflow": null,
            "_model_module_version": "1.2.0",
            "_view_count": null,
            "flex_flow": null,
            "width": null,
            "min_width": null,
            "border": null,
            "align_items": null,
            "bottom": null,
            "_model_module": "@jupyter-widgets/base",
            "top": null,
            "grid_column": null,
            "overflow_y": null,
            "overflow_x": null,
            "grid_auto_flow": null,
            "grid_area": null,
            "grid_template_columns": null,
            "flex": null,
            "_model_name": "LayoutModel",
            "justify_items": null,
            "grid_row": null,
            "max_height": null,
            "align_content": null,
            "visibility": null,
            "align_self": null,
            "height": null,
            "min_height": null,
            "padding": null,
            "grid_auto_rows": null,
            "grid_gap": null,
            "max_width": null,
            "order": null,
            "_view_module_version": "1.2.0",
            "grid_template_areas": null,
            "object_position": null,
            "object_fit": null,
            "grid_auto_columns": null,
            "margin": null,
            "display": null,
            "left": null
          }
        },
        "4bceb3cd48e1430a8bd6bced137612f9": {
          "model_module": "@jupyter-widgets/controls",
          "model_name": "HTMLModel",
          "model_module_version": "1.5.0",
          "state": {
            "_view_name": "HTMLView",
            "style": "IPY_MODEL_5b8836f7982447c08d72ef1de2d0018c",
            "_dom_classes": [],
            "description": "",
            "_model_name": "HTMLModel",
            "placeholder": "​",
            "_view_module": "@jupyter-widgets/controls",
            "_model_module_version": "1.5.0",
            "value": "  1%",
            "_view_count": null,
            "_view_module_version": "1.5.0",
            "description_tooltip": null,
            "_model_module": "@jupyter-widgets/controls",
            "layout": "IPY_MODEL_e20e5fc7ca5e4c65b88f17684139c327"
          }
        },
        "a02f5aa219d34da5b83927972b2b9e59": {
          "model_module": "@jupyter-widgets/controls",
          "model_name": "FloatProgressModel",
          "model_module_version": "1.5.0",
          "state": {
            "_view_name": "ProgressView",
            "style": "IPY_MODEL_24e6d6ad46924adfbaa569ee9b05070a",
            "_dom_classes": [],
            "description": "",
            "_model_name": "FloatProgressModel",
            "bar_style": "danger",
            "max": 91675053,
            "_view_module": "@jupyter-widgets/controls",
            "_model_module_version": "1.5.0",
            "value": 1310720,
            "_view_count": null,
            "_view_module_version": "1.5.0",
            "orientation": "horizontal",
            "min": 0,
            "description_tooltip": null,
            "_model_module": "@jupyter-widgets/controls",
            "layout": "IPY_MODEL_ee11160f68954009bae5ce3618748f8b"
          }
        },
        "d866f560acd44b0da95e212fa30df871": {
          "model_module": "@jupyter-widgets/controls",
          "model_name": "HTMLModel",
          "model_module_version": "1.5.0",
          "state": {
            "_view_name": "HTMLView",
            "style": "IPY_MODEL_6e1bb8c9cf204251b65888ce105b8511",
            "_dom_classes": [],
            "description": "",
            "_model_name": "HTMLModel",
            "placeholder": "​",
            "_view_module": "@jupyter-widgets/controls",
            "_model_module_version": "1.5.0",
            "value": " 1.25M/87.4M [00:03&lt;04:12, 358kB/s]",
            "_view_count": null,
            "_view_module_version": "1.5.0",
            "description_tooltip": null,
            "_model_module": "@jupyter-widgets/controls",
            "layout": "IPY_MODEL_f0284561307c489cb532e3d5870205c0"
          }
        },
        "5b8836f7982447c08d72ef1de2d0018c": {
          "model_module": "@jupyter-widgets/controls",
          "model_name": "DescriptionStyleModel",
          "model_module_version": "1.5.0",
          "state": {
            "_view_name": "StyleView",
            "_model_name": "DescriptionStyleModel",
            "description_width": "",
            "_view_module": "@jupyter-widgets/base",
            "_model_module_version": "1.5.0",
            "_view_count": null,
            "_view_module_version": "1.2.0",
            "_model_module": "@jupyter-widgets/controls"
          }
        },
        "e20e5fc7ca5e4c65b88f17684139c327": {
          "model_module": "@jupyter-widgets/base",
          "model_name": "LayoutModel",
          "model_module_version": "1.2.0",
          "state": {
            "_view_name": "LayoutView",
            "grid_template_rows": null,
            "right": null,
            "justify_content": null,
            "_view_module": "@jupyter-widgets/base",
            "overflow": null,
            "_model_module_version": "1.2.0",
            "_view_count": null,
            "flex_flow": null,
            "width": null,
            "min_width": null,
            "border": null,
            "align_items": null,
            "bottom": null,
            "_model_module": "@jupyter-widgets/base",
            "top": null,
            "grid_column": null,
            "overflow_y": null,
            "overflow_x": null,
            "grid_auto_flow": null,
            "grid_area": null,
            "grid_template_columns": null,
            "flex": null,
            "_model_name": "LayoutModel",
            "justify_items": null,
            "grid_row": null,
            "max_height": null,
            "align_content": null,
            "visibility": null,
            "align_self": null,
            "height": null,
            "min_height": null,
            "padding": null,
            "grid_auto_rows": null,
            "grid_gap": null,
            "max_width": null,
            "order": null,
            "_view_module_version": "1.2.0",
            "grid_template_areas": null,
            "object_position": null,
            "object_fit": null,
            "grid_auto_columns": null,
            "margin": null,
            "display": null,
            "left": null
          }
        },
        "24e6d6ad46924adfbaa569ee9b05070a": {
          "model_module": "@jupyter-widgets/controls",
          "model_name": "ProgressStyleModel",
          "model_module_version": "1.5.0",
          "state": {
            "_view_name": "StyleView",
            "_model_name": "ProgressStyleModel",
            "description_width": "",
            "_view_module": "@jupyter-widgets/base",
            "_model_module_version": "1.5.0",
            "_view_count": null,
            "_view_module_version": "1.2.0",
            "bar_color": null,
            "_model_module": "@jupyter-widgets/controls"
          }
        },
        "ee11160f68954009bae5ce3618748f8b": {
          "model_module": "@jupyter-widgets/base",
          "model_name": "LayoutModel",
          "model_module_version": "1.2.0",
          "state": {
            "_view_name": "LayoutView",
            "grid_template_rows": null,
            "right": null,
            "justify_content": null,
            "_view_module": "@jupyter-widgets/base",
            "overflow": null,
            "_model_module_version": "1.2.0",
            "_view_count": null,
            "flex_flow": null,
            "width": null,
            "min_width": null,
            "border": null,
            "align_items": null,
            "bottom": null,
            "_model_module": "@jupyter-widgets/base",
            "top": null,
            "grid_column": null,
            "overflow_y": null,
            "overflow_x": null,
            "grid_auto_flow": null,
            "grid_area": null,
            "grid_template_columns": null,
            "flex": null,
            "_model_name": "LayoutModel",
            "justify_items": null,
            "grid_row": null,
            "max_height": null,
            "align_content": null,
            "visibility": null,
            "align_self": null,
            "height": null,
            "min_height": null,
            "padding": null,
            "grid_auto_rows": null,
            "grid_gap": null,
            "max_width": null,
            "order": null,
            "_view_module_version": "1.2.0",
            "grid_template_areas": null,
            "object_position": null,
            "object_fit": null,
            "grid_auto_columns": null,
            "margin": null,
            "display": null,
            "left": null
          }
        },
        "6e1bb8c9cf204251b65888ce105b8511": {
          "model_module": "@jupyter-widgets/controls",
          "model_name": "DescriptionStyleModel",
          "model_module_version": "1.5.0",
          "state": {
            "_view_name": "StyleView",
            "_model_name": "DescriptionStyleModel",
            "description_width": "",
            "_view_module": "@jupyter-widgets/base",
            "_model_module_version": "1.5.0",
            "_view_count": null,
            "_view_module_version": "1.2.0",
            "_model_module": "@jupyter-widgets/controls"
          }
        },
        "f0284561307c489cb532e3d5870205c0": {
          "model_module": "@jupyter-widgets/base",
          "model_name": "LayoutModel",
          "model_module_version": "1.2.0",
          "state": {
            "_view_name": "LayoutView",
            "grid_template_rows": null,
            "right": null,
            "justify_content": null,
            "_view_module": "@jupyter-widgets/base",
            "overflow": null,
            "_model_module_version": "1.2.0",
            "_view_count": null,
            "flex_flow": null,
            "width": null,
            "min_width": null,
            "border": null,
            "align_items": null,
            "bottom": null,
            "_model_module": "@jupyter-widgets/base",
            "top": null,
            "grid_column": null,
            "overflow_y": null,
            "overflow_x": null,
            "grid_auto_flow": null,
            "grid_area": null,
            "grid_template_columns": null,
            "flex": null,
            "_model_name": "LayoutModel",
            "justify_items": null,
            "grid_row": null,
            "max_height": null,
            "align_content": null,
            "visibility": null,
            "align_self": null,
            "height": null,
            "min_height": null,
            "padding": null,
            "grid_auto_rows": null,
            "grid_gap": null,
            "max_width": null,
            "order": null,
            "_view_module_version": "1.2.0",
            "grid_template_areas": null,
            "object_position": null,
            "object_fit": null,
            "grid_auto_columns": null,
            "margin": null,
            "display": null,
            "left": null
          }
        }
      }
    },
    "accelerator": "GPU"
  },
  "cells": [
    {
      "cell_type": "code",
      "metadata": {
        "colab": {
          "base_uri": "https://localhost:8080/",
          "height": 35
        },
        "id": "u2EuxqtOe3zd",
        "outputId": "be86eb56-267b-4e73-b39a-28be55096f4d"
      },
      "source": [
        "'''\n",
        "model = models.vgg16(pretrained=True)\n",
        "torch.save(model.state_dict(), 'model_weights.pth')\n",
        "'''"
      ],
      "execution_count": null,
      "outputs": [
        {
          "output_type": "execute_result",
          "data": {
            "application/vnd.google.colaboratory.intrinsic+json": {
              "type": "string"
            },
            "text/plain": [
              "\"\\nmodel = models.vgg16(pretrained=True)\\ntorch.save(model.state_dict(), 'model_weights.pth')\\n\""
            ]
          },
          "metadata": {},
          "execution_count": 1
        }
      ]
    },
    {
      "cell_type": "code",
      "metadata": {
        "id": "kGiHyvXl-MyT",
        "colab": {
          "base_uri": "https://localhost:8080/"
        },
        "outputId": "8878566d-5890-4abe-998a-5a6f3fa4bec9"
      },
      "source": [
        "!nvidia-smi"
      ],
      "execution_count": null,
      "outputs": [
        {
          "output_type": "stream",
          "name": "stdout",
          "text": [
            "Mon Sep 20 11:12:21 2021       \n",
            "+-----------------------------------------------------------------------------+\n",
            "| NVIDIA-SMI 470.63.01    Driver Version: 460.32.03    CUDA Version: 11.2     |\n",
            "|-------------------------------+----------------------+----------------------+\n",
            "| GPU  Name        Persistence-M| Bus-Id        Disp.A | Volatile Uncorr. ECC |\n",
            "| Fan  Temp  Perf  Pwr:Usage/Cap|         Memory-Usage | GPU-Util  Compute M. |\n",
            "|                               |                      |               MIG M. |\n",
            "|===============================+======================+======================|\n",
            "|   0  Tesla K80           Off  | 00000000:00:04.0 Off |                    0 |\n",
            "| N/A   59C    P8    31W / 149W |      0MiB / 11441MiB |      0%      Default |\n",
            "|                               |                      |                  N/A |\n",
            "+-------------------------------+----------------------+----------------------+\n",
            "                                                                               \n",
            "+-----------------------------------------------------------------------------+\n",
            "| Processes:                                                                  |\n",
            "|  GPU   GI   CI        PID   Type   Process name                  GPU Memory |\n",
            "|        ID   ID                                                   Usage      |\n",
            "|=============================================================================|\n",
            "|  No running processes found                                                 |\n",
            "+-----------------------------------------------------------------------------+\n"
          ]
        }
      ]
    },
    {
      "cell_type": "code",
      "metadata": {
        "colab": {
          "base_uri": "https://localhost:8080/"
        },
        "id": "I7Pt3LPkEshM",
        "outputId": "b7a46383-26a6-49b3-f500-eaec313eff7f"
      },
      "source": [
        "!pip install pretrainedmodels"
      ],
      "execution_count": null,
      "outputs": [
        {
          "output_type": "stream",
          "name": "stdout",
          "text": [
            "Collecting pretrainedmodels\n",
            "  Downloading pretrainedmodels-0.7.4.tar.gz (58 kB)\n",
            "\u001b[?25l\r\u001b[K     |█████▋                          | 10 kB 15.8 MB/s eta 0:00:01\r\u001b[K     |███████████▏                    | 20 kB 15.3 MB/s eta 0:00:01\r\u001b[K     |████████████████▊               | 30 kB 10.8 MB/s eta 0:00:01\r\u001b[K     |██████████████████████▎         | 40 kB 9.4 MB/s eta 0:00:01\r\u001b[K     |███████████████████████████▉    | 51 kB 5.8 MB/s eta 0:00:01\r\u001b[K     |████████████████████████████████| 58 kB 2.4 MB/s \n",
            "\u001b[?25hRequirement already satisfied: torch in /usr/local/lib/python3.7/dist-packages (from pretrainedmodels) (1.9.0+cu102)\n",
            "Requirement already satisfied: torchvision in /usr/local/lib/python3.7/dist-packages (from pretrainedmodels) (0.10.0+cu102)\n",
            "Collecting munch\n",
            "  Downloading munch-2.5.0-py2.py3-none-any.whl (10 kB)\n",
            "Requirement already satisfied: tqdm in /usr/local/lib/python3.7/dist-packages (from pretrainedmodels) (4.62.2)\n",
            "Requirement already satisfied: six in /usr/local/lib/python3.7/dist-packages (from munch->pretrainedmodels) (1.15.0)\n",
            "Requirement already satisfied: typing-extensions in /usr/local/lib/python3.7/dist-packages (from torch->pretrainedmodels) (3.7.4.3)\n",
            "Requirement already satisfied: pillow>=5.3.0 in /usr/local/lib/python3.7/dist-packages (from torchvision->pretrainedmodels) (7.1.2)\n",
            "Requirement already satisfied: numpy in /usr/local/lib/python3.7/dist-packages (from torchvision->pretrainedmodels) (1.19.5)\n",
            "Building wheels for collected packages: pretrainedmodels\n",
            "  Building wheel for pretrainedmodels (setup.py) ... \u001b[?25l\u001b[?25hdone\n",
            "  Created wheel for pretrainedmodels: filename=pretrainedmodels-0.7.4-py3-none-any.whl size=60965 sha256=33db4f132235473588d139bd1781592d9674d480688f514fe51cb707c9517eba\n",
            "  Stored in directory: /root/.cache/pip/wheels/ed/27/e8/9543d42de2740d3544db96aefef63bda3f2c1761b3334f4873\n",
            "Successfully built pretrainedmodels\n",
            "Installing collected packages: munch, pretrainedmodels\n",
            "Successfully installed munch-2.5.0 pretrainedmodels-0.7.4\n"
          ]
        }
      ]
    },
    {
      "cell_type": "code",
      "metadata": {
        "id": "0P8g_s-7ErQJ"
      },
      "source": [
        "import pretrainedmodels"
      ],
      "execution_count": null,
      "outputs": []
    },
    {
      "cell_type": "code",
      "metadata": {
        "id": "wKvSM05xLXX1"
      },
      "source": [
        "import torch\n",
        "import torchvision\n",
        "from torchvision import transforms,models\n",
        "from torch.utils.data import Dataset, DataLoader\n",
        "import torch.nn as nn\n",
        "import torch.nn.functional as F\n",
        "import torch.optim as optim\n",
        "from torch.optim import lr_scheduler\n",
        "from skimage import io\n",
        "\n",
        "import os\n",
        "\n",
        "import numpy as np\n",
        "from PIL import Image\n",
        "import time\n",
        "import matplotlib.pyplot as plt\n",
        "from tqdm import tqdm\n",
        "import copy\n",
        "import shutil\n",
        "import logging\n",
        "import torchvision.utils as utils\n",
        "\n",
        "\n",
        "\n",
        "from sklearn.metrics import confusion_matrix, precision_score, recall_score, f1_score, roc_curve, roc_auc_score\n",
        "device = torch.device(\"cuda\" if torch.cuda.is_available() else \"cpu\")\n",
        "cuda = torch.cuda.is_available()"
      ],
      "execution_count": null,
      "outputs": []
    },
    {
      "cell_type": "markdown",
      "metadata": {
        "id": "1ASyE12WLd0R"
      },
      "source": [
        "Mount the Google Drive"
      ]
    },
    {
      "cell_type": "code",
      "metadata": {
        "colab": {
          "base_uri": "https://localhost:8080/"
        },
        "id": "U7TDVs77LdWA",
        "outputId": "4d88d007-ca1b-4798-fefa-22d7f0f983d3"
      },
      "source": [
        "from google.colab import drive\n",
        "drive.mount('/content/gdrive')"
      ],
      "execution_count": null,
      "outputs": [
        {
          "output_type": "stream",
          "name": "stdout",
          "text": [
            "Drive already mounted at /content/gdrive; to attempt to forcibly remount, call drive.mount(\"/content/gdrive\", force_remount=True).\n"
          ]
        }
      ]
    },
    {
      "cell_type": "markdown",
      "metadata": {
        "id": "2ycTkaONLxsz"
      },
      "source": [
        "Generate Dataloaders"
      ]
    },
    {
      "cell_type": "code",
      "metadata": {
        "id": "cEryAXyaLbso"
      },
      "source": [
        "def get_loader(data_path,pin_memory=True,num_workers = 8,batch_size = 256):\n",
        "    \"\"\"\n",
        "    Return the dataloader for train,dev and test, along with number of Classes in dataset\n",
        "    Args:\n",
        "        pin_memory: (bool) speed up host to device transfer(load samples on CPU push to GPU on training)\n",
        "        number_workers: (int) multi-process data loading\n",
        "        batch_size: (int) load data in batches\n",
        "    \n",
        "    Returns:\n",
        "        dataloaders: (DataLoader) train, test, and dev dataloaders\n",
        "        num_classses: (int) number of different classes of faces in dataset\n",
        "    \"\"\"\n",
        "    transform = transforms.Compose([transforms.Resize(256),\n",
        "                                    transforms.CenterCrop(224),\n",
        "                                    #transforms.Resize(32),\n",
        "                                    transforms.CenterCrop(224),\n",
        "                                    transforms.ToTensor(),##Add more data Augumentation(Select data augumentation -> None or other options like horizontal flip crop)\n",
        "                                    transforms.Normalize(mean=[0.485, 0.456, 0.406], std=[0.229, 0.224, 0.225]),])\n",
        "    # Train Dataset\n",
        "    train_dataset = torchvision.datasets.ImageFolder(root=data_path+'train/', \n",
        "                                                 transform = transform)\n",
        "    \n",
        "    # Dev Dataset                                             \n",
        "    dev_dataset = torchvision.datasets.ImageFolder(root=data_path+'val/', \n",
        "                                               transform = transform)\n",
        "    # Test Dataset\n",
        "    test_dataset = torchvision.datasets.ImageFolder(root=data_path+'test/', \n",
        "                                               transform = transform)\n",
        "    \n",
        "    #Trainloader\n",
        "    train_dataloader = torch.utils.data.DataLoader(train_dataset, batch_size=batch_size, \n",
        "                                               shuffle=True, num_workers=num_workers,pin_memory=True)\n",
        "\n",
        "    \n",
        "    # Dev Loader\n",
        "    dev_dataloader = torch.utils.data.DataLoader(dev_dataset, batch_size=batch_size, \n",
        "                                             shuffle=True, num_workers=num_workers, pin_memory=True)\n",
        "\n",
        "    # Test Loader\n",
        "    test_dataloader = torch.utils.data.DataLoader(test_dataset, batch_size=10, \n",
        "                                             shuffle=False, num_workers=num_workers, pin_memory=True)\n",
        "    \n",
        "    return train_dataloader, dev_dataloader,test_dataloader, len(train_dataset.classes)"
      ],
      "execution_count": null,
      "outputs": []
    },
    {
      "cell_type": "markdown",
      "metadata": {
        "id": "jPG0Sr-TMI09"
      },
      "source": [
        "Utilities"
      ]
    },
    {
      "cell_type": "code",
      "metadata": {
        "id": "xZ7--DIVMD3Y"
      },
      "source": [
        "class RunningAverage():\n",
        "    \"\"\"A simple class that maintains the running average of a quantity\n",
        "    \n",
        "    Example:\n",
        "    ```\n",
        "    loss_avg = RunningAverage()\n",
        "    loss_avg.update(2)\n",
        "    loss_avg.update(4)\n",
        "    loss_avg() = 3\n",
        "    ```\n",
        "    \"\"\"\n",
        "    def __init__(self):\n",
        "        self.steps = 0\n",
        "        self.total = 0\n",
        "    \n",
        "    def update(self, val):\n",
        "        self.total += val\n",
        "        self.steps += 1\n",
        "    \n",
        "    def __call__(self):\n",
        "        return self.total/float(self.steps)\n",
        "\n",
        "\n",
        "def save_checkpoint(state, is_best, checkpoint):\n",
        "    \"\"\"Saves model and training parameters at checkpoint + 'last.pth.tar'. If is_best==True, also saves\n",
        "    checkpoint + 'best.pth.tar'\n",
        "    Args:\n",
        "        state: (dict) contains model's state_dict, may contain other keys such as epoch, optimizer state_dict\n",
        "        is_best: (bool) True if it is the best model seen till now\n",
        "        checkpoint: (string) folder where parameters are to be saved\n",
        "    \"\"\"\n",
        "    filepath = os.path.join(checkpoint, 'last.pth.tar')\n",
        "    if not os.path.exists(checkpoint):\n",
        "        print(\"Checkpoint Directory does not exist! Making directory {}\".format(checkpoint))\n",
        "        os.mkdir(checkpoint)\n",
        "    else:\n",
        "        print(\"Checkpoint Directory exists! \")\n",
        "    torch.save(state, filepath)\n",
        "    if is_best:\n",
        "        shutil.copyfile(filepath, os.path.join(checkpoint, 'best.pth.tar'))\n",
        "\n",
        "def load_checkpoint(checkpoint, model, optimizer=None,scheduler=None):\n",
        "    \"\"\"Loads model parameters (state_dict) from file_path. If optimizer is provided, loads state_dict of\n",
        "    optimizer assuming it is present in checkpoint.\n",
        "    Args:\n",
        "        checkpoint: (string) filename which needs to be loaded\n",
        "        model: (torch.nn.Module) model for which the parameters are loaded\n",
        "        optimizer: (torch.optim) optional: resume optimizer from checkpoint\n",
        "    \"\"\"\n",
        "    if not os.path.exists(checkpoint):\n",
        "        raise(\"File doesn't exist {}\".format(checkpoint))\n",
        "    #checkpoint = torch.load(checkpoint)\n",
        "    checkpoint = torch.load(checkpoint,map_location=device)\n",
        "    model.load_state_dict(checkpoint['model_state_dict'])\n",
        "\n",
        "    if optimizer:\n",
        "        optimizer.load_state_dict(checkpoint['optimizer_state_dict'])\n",
        "        #optimizer2.load_state_dict(checkpoint['optimizer_closs_state_dict'])\n",
        "    \n",
        "    if scheduler:\n",
        "      scheduler.load_state_dict(checkpoint[\"scheduler_save\"])\n",
        "\n",
        "    return checkpoint\n",
        "\n",
        "def set_logger(log_path):\n",
        "    \"\"\"Set the logger to log info in terminal and file `log_path`.\n",
        "    In general, it is useful to have a logger so that every output to the terminal is saved\n",
        "    in a permanent file. Here we save it to `model_dir/train.log`.\n",
        "    Example:\n",
        "    ```\n",
        "    logging.info(\"Starting training...\")\n",
        "    ```\n",
        "    Args:\n",
        "        log_path: (string) where to log\n",
        "    \"\"\"\n",
        "    logger = logging.getLogger()\n",
        "    logger.setLevel(logging.INFO)\n",
        "\n",
        "    if not logger.handlers:\n",
        "        # Logging to a file\n",
        "        file_handler = logging.FileHandler(log_path)\n",
        "        file_handler.setFormatter(logging.Formatter('%(asctime)s:%(levelname)s: %(message)s'))\n",
        "        logger.addHandler(file_handler)\n",
        "\n",
        "        # Logging to console\n",
        "        stream_handler = logging.StreamHandler()\n",
        "        stream_handler.setFormatter(logging.Formatter('%(message)s'))\n",
        "        logger.addHandler(stream_handler)"
      ],
      "execution_count": null,
      "outputs": []
    },
    {
      "cell_type": "markdown",
      "metadata": {
        "id": "NqNx1PhBM5O0"
      },
      "source": [
        "Define Model"
      ]
    },
    {
      "cell_type": "code",
      "metadata": {
        "id": "81ImuhsYM4nR"
      },
      "source": [
        "class MyVgg(nn.Module):\n",
        "  '''\n",
        "  PreTrained VGG model(fixed Feature Extractor) with\n",
        "  Attention Mechanism\n",
        "  https://arxiv.org/pdf/1804.02391v2.pdf\n",
        "  '''\n",
        "  def __init__(self):\n",
        "    super(MyVgg,self).__init__()\n",
        "    vgg = models.vgg19_bn(pretrained=True)\n",
        "    list_of_modules = list(next(vgg.children()))\n",
        "    self.layer1 = nn.Sequential(*list_of_modules[:27])\n",
        "    self.projector = nn.Conv2d(256, 512, kernel_size=1, padding=0, bias=False)\n",
        "    self.attn1 =  LinearAttentionBlock(512)\n",
        "    self.layer2 = nn.Sequential(*list_of_modules[27:40])\n",
        "    self.attn2 = LinearAttentionBlock(512)\n",
        "    self.layer3 = nn.Sequential(*list_of_modules[40:])\n",
        "    self.attn3 = LinearAttentionBlock(512)\n",
        "    self.dense = nn.Conv2d(512,512, kernel_size=int(224/32), padding=0, bias=True)\n",
        "    self.freeze()\n",
        "    self.classify = nn.Linear(512*3,2,bias=True)\n",
        "  \n",
        "  def forward(self,x):\n",
        "    l1 = self.layer1(x)\n",
        "    l2 = self.layer2(l1)\n",
        "    l3 = self.layer3(l2)\n",
        "    g = self.dense(l3)\n",
        "    c1, g1 = self.attn1(self.projector(l1), g)\n",
        "    c2, g2 = self.attn2(l2, g)\n",
        "    c3, g3 = self.attn3(l3, g)\n",
        "    g = torch.cat((g1,g2,g3), dim=1)\n",
        "    x = self.classify(g)\n",
        "    return [x,c1,c2,c3]\n",
        "\n",
        "\n",
        "  def freeze(self):\n",
        "    for lay in [self.layer1,self.layer2,self.layer3]:      \n",
        "      for p in lay.parameters():\n",
        "        p.requires_grad = False\n",
        "\n",
        "\n",
        "class LinearAttentionBlock(nn.Module):\n",
        "    def __init__(self, in_features, normalize_attn=True):\n",
        "        super(LinearAttentionBlock, self).__init__()\n",
        "        self.normalize_attn = normalize_attn\n",
        "        self.op = nn.Conv2d(in_channels=in_features, out_channels=1, kernel_size=1, padding=0, bias=False)\n",
        "    def forward(self, l, g):\n",
        "        N, C, W, H = l.size()\n",
        "        c = self.op(l+g) # batch_sizex1xWxH\n",
        "        if self.normalize_attn:\n",
        "            a = F.softmax(c.view(N,1,-1), dim=2).view(N,1,W,H)\n",
        "        else:\n",
        "            a = torch.sigmoid(c)\n",
        "        g = torch.mul(a.expand_as(l), l)\n",
        "        if self.normalize_attn:\n",
        "            g = g.view(N,C,-1).sum(dim=2) # batch_sizexC\n",
        "        else:\n",
        "            g = F.adaptive_avg_pool2d(g, (1,1)).view(N,C)\n",
        "        return c.view(N,1,W,H), g\n"
      ],
      "execution_count": null,
      "outputs": []
    },
    {
      "cell_type": "markdown",
      "metadata": {
        "id": "IOrP_Ry_MYX1"
      },
      "source": [
        "Loss Function"
      ]
    },
    {
      "cell_type": "code",
      "metadata": {
        "id": "Xe01qHbzMXMu"
      },
      "source": [
        "def cross_entropy(output, labels):\n",
        "    \"\"\"\n",
        "    Loss for Classification\n",
        "    Args:\n",
        "        output: (Tensor) Tensor of Prediction made by the model for face class\n",
        "        labels: (Tensor) True labels for each batch of faces\n",
        "    \"\"\"\n",
        "    return F.cross_entropy(output, labels)"
      ],
      "execution_count": null,
      "outputs": []
    },
    {
      "cell_type": "markdown",
      "metadata": {
        "id": "eClai-OyMhRO"
      },
      "source": [
        "Training - One Epoch"
      ]
    },
    {
      "cell_type": "code",
      "metadata": {
        "id": "XRc6I4SCMcI5"
      },
      "source": [
        "def one_epoch(epoch,net,loader,optimizer,images_disp):\n",
        "  net.train()\n",
        "  running_loss = 0.0\n",
        "  n = 0\n",
        "  correct = 0\n",
        "  total = 0\n",
        "  loss_avg = RunningAverage()\n",
        "  with tqdm(total=len(loader)) as t:\n",
        "    for i,(inputs,labels) in enumerate(loader):\n",
        "      \n",
        "      inputs = inputs.to(device)\n",
        "      labels = labels.to(device)\n",
        "      if i == 0:\n",
        "        images_disp.append(inputs[0:36,:,:,:])\n",
        "      optimizer.zero_grad()\n",
        "      outputs,_,_,_ = net(inputs)\n",
        "      #outputs = net(inputs)\n",
        "      loss = cross_entropy(outputs,labels)\n",
        "      running_loss += loss.item()\n",
        "      loss.backward()\n",
        "      optimizer.step()\n",
        "      _, predicted = torch.max(outputs.data, 1)\n",
        "      total += labels.size(0)\n",
        "      correct += (predicted == labels).sum().item()\n",
        "      torch.cuda.empty_cache()\n",
        "      loss_avg.update(loss.item())\n",
        "\n",
        "      del inputs\n",
        "      del labels\n",
        "      del loss\n",
        "      t.set_postfix(loss='{:05.3f}'.format(loss_avg()))\n",
        "      t.update()\n",
        "  avg_loss = running_loss / total\n",
        "  acc = correct / total *100\n",
        "  return avg_loss,acc"
      ],
      "execution_count": null,
      "outputs": []
    },
    {
      "cell_type": "markdown",
      "metadata": {
        "id": "zvZtkxXRMn8w"
      },
      "source": [
        "Inference - One Epoch"
      ]
    },
    {
      "cell_type": "code",
      "metadata": {
        "id": "5lLtlBbLMndn"
      },
      "source": [
        "def infer_classfication(net, loader,images_disp):\n",
        "    net.eval()\n",
        "    running_loss = 0.0\n",
        "    n = 0\n",
        "    correct = 0\n",
        "    total = 0\n",
        "    with torch.no_grad():\n",
        "        for i, (inputs,labels) in enumerate(loader):\n",
        "            inputs = inputs.to(device)\n",
        "            labels = labels.to(device)\n",
        "            if i == 0:\n",
        "              images_disp.append(inputs[0:36,:,:,:])\n",
        "            outputs,_,_,_ = net(inputs)\n",
        "            #outputs = net(inputs)\n",
        "            loss = cross_entropy(outputs,labels)\n",
        "            running_loss += loss.item()\n",
        "            _, predicted = torch.max(outputs.data, 1)\n",
        "            total += labels.size(0)\n",
        "            correct += (predicted == labels).sum().item()\n",
        "            del inputs\n",
        "            del labels\n",
        "\n",
        "    acc = correct / total * 100\n",
        "    avg_loss = running_loss / total\n",
        "    return avg_loss, acc"
      ],
      "execution_count": null,
      "outputs": []
    },
    {
      "cell_type": "markdown",
      "metadata": {
        "id": "L2PdSK59Mvlp"
      },
      "source": [
        "Training main function"
      ]
    },
    {
      "cell_type": "code",
      "metadata": {
        "id": "4HvmT_3-Mr5u"
      },
      "source": [
        "def train_step(net,loader,dev_loader,optimizer,scheduler,epochs):\n",
        "  net.train()\n",
        "  train_losses = []\n",
        "  valid_losses = []\n",
        "  valid_acc = []\n",
        "  auc_acc = []\n",
        "\n",
        "  best_acc = 0.0\n",
        "  is_best = False\n",
        "  for epoch in range(epochs):\n",
        "    images_disp = []\n",
        "    for prarm_group in optimizer.param_groups:\n",
        "      print(\"Current lr: \\t{}\".format(prarm_group[\"lr\"]))\n",
        "      writer.add_scalar('train/learning_rate', optimizer.param_groups[0]['lr'], epoch)\n",
        "  \n",
        "    avg_loss_t, acc_t = one_epoch(epoch, net, loader, optimizer,images_disp)\n",
        "\n",
        "    print(f'\\n\\n*************\\n')\n",
        "    print('Epoch [%d], loss: %.8f, acc: %.4f' %\n",
        "                (epoch + 1, avg_loss_t, acc_t))\n",
        "    avg_loss_v, acc_v = infer_classfication(net, dev_loader,images_disp)\n",
        "    writer.add_scalar('train/accuracy', acc_t, epoch)\n",
        "    writer.add_scalar('test/accuracy', acc_v, epoch)\n",
        "    writer.add_scalar('train/loss', avg_loss_t, epoch)\n",
        "    writer.add_scalar('test/loss', avg_loss_v, epoch)\n",
        "    I_train = utils.make_grid(images_disp[0], nrow=6, normalize=True, scale_each=True)\n",
        "    writer.add_image('train/image', I_train, epoch)\n",
        "    if epoch == 0:\n",
        "      I_test = utils.make_grid(images_disp[1], nrow=6, normalize=True, scale_each=True)\n",
        "      writer.add_image('test/image', I_test, epoch)\n",
        "    \n",
        "    min_up_factor = 8\n",
        "    vis_fun = visualize_attn_softmax\n",
        "    #vis_fun = visualize_attn_sigmoid\n",
        "    __, c1, c2, c3 = net(images_disp[0])\n",
        "    \n",
        "    if c1 is not None:\n",
        "        attn1 = vis_fun(I_train, c1, up_factor=min_up_factor, nrow=6)\n",
        "        writer.add_image('train/attention_map_1', attn1, epoch)\n",
        "    if c2 is not None:\n",
        "        attn2 = vis_fun(I_train, c2, up_factor=min_up_factor*2, nrow=6)\n",
        "        writer.add_image('train/attention_map_2', attn2, epoch)\n",
        "    if c3 is not None:\n",
        "        attn3 = vis_fun(I_train, c3, up_factor=min_up_factor*4, nrow=6)\n",
        "        writer.add_image('train/attention_map_3', attn3, epoch)\n",
        "    # test data\n",
        "    \n",
        "    __, c1, c2, c3 = net(images_disp[1])\n",
        "    if c1 is not None:\n",
        "        attn1 = vis_fun(I_test, c1, up_factor=min_up_factor, nrow=6)\n",
        "        writer.add_image('test/attention_map_1', attn1, epoch)\n",
        "    if c2 is not None:\n",
        "        attn2 = vis_fun(I_test, c2, up_factor=min_up_factor*2, nrow=6)\n",
        "        writer.add_image('test/attention_map_2', attn2, epoch)\n",
        "    if c3 is not None:\n",
        "        attn3 = vis_fun(I_test, c3, up_factor=min_up_factor*4, nrow=6)\n",
        "        writer.add_image('test/attention_map_3', attn3, epoch)\n",
        "    \n",
        "    valid_losses.append(avg_loss_v)\n",
        "    valid_acc.append(acc_v)   \n",
        "    print('[Classification valid] loss: %.8f, acc: %.4f\\n\\n' % (avg_loss_v, acc_v))\n",
        "    if acc_v > best_acc:\n",
        "      is_best = True\n",
        "    #scheduler.step() # StepLR\n",
        "    scheduler.step(avg_loss_v) # ReduceonPlateau\n",
        "    train_losses.append(avg_loss_t)\n",
        "    print('\\n','='*20)\n",
        "    #print(\"*** Saving Checkpoint ***\\n\")\n",
        "    \n",
        "    '''\n",
        "    save_checkpoint({'epoch': epoch + 1,\n",
        "                               'model_state_dict': net.state_dict(),\n",
        "                               'optimizer_state_dict': optimizer.state_dict(),\n",
        "                                'scheduler_save' : scheduler.state_dict(),\n",
        "                               'train_loss': train_losses,\n",
        "                                'dev_loss':valid_losses,\n",
        "                                'dev_acc': valid_acc,},\n",
        "                              is_best=is_best,\n",
        "                              checkpoint = hyper_param[\"ckpnt_training\"]\n",
        "                              #checkpoint=\"/content/gdrive/MyDrive/capstone/workings/Project_LocalMachine/checkpoint\"\n",
        "                              )\n",
        "    '''\n",
        "    \n",
        "  return train_losses, valid_losses,valid_acc"
      ],
      "execution_count": null,
      "outputs": []
    },
    {
      "cell_type": "markdown",
      "metadata": {
        "id": "FChto8M-N3Lg"
      },
      "source": [
        "Visualize Attention"
      ]
    },
    {
      "cell_type": "code",
      "metadata": {
        "id": "F5tNfD42NuPi"
      },
      "source": [
        "\n",
        "import cv2\n",
        "\n",
        "\n",
        "def visualize_attn_softmax(I, c, up_factor, nrow):\n",
        "    # image\n",
        "    img = I.permute((1,2,0)).cpu().numpy()\n",
        "    # compute the heatmap\n",
        "    N,C,W,H = c.size()\n",
        "    a = F.softmax(c.view(N,C,-1), dim=2).view(N,C,W,H)\n",
        "    #a = F.interpolate(a, scale_factor=up_factor, mode='bilinear', align_corners=False)\n",
        "    a = F.interpolate(a,size=224)\n",
        "    #if up_factor > 1:\n",
        "    #    a = F.interpolate(a, scale_factor=up_factor, mode='bilinear', align_corners=False)\n",
        "    attn = utils.make_grid(a, nrow=nrow, normalize=True, scale_each=True)\n",
        "    attn = attn.permute((1,2,0)).mul(255).byte().cpu().numpy()\n",
        "    attn = cv2.applyColorMap(attn, cv2.COLORMAP_JET)\n",
        "    attn = cv2.cvtColor(attn, cv2.COLOR_BGR2RGB)\n",
        "    attn = np.float32(attn) / 255\n",
        "    # add the heatmap to the image\n",
        "    vis = 0.6 * img + 0.4 * attn\n",
        "    return torch.from_numpy(vis).permute(2,0,1)"
      ],
      "execution_count": null,
      "outputs": []
    },
    {
      "cell_type": "code",
      "metadata": {
        "id": "TvfQPnlrNyHJ"
      },
      "source": [
        "from torch.utils.tensorboard import SummaryWriter\n",
        "writer = SummaryWriter()"
      ],
      "execution_count": null,
      "outputs": []
    },
    {
      "cell_type": "code",
      "metadata": {
        "colab": {
          "base_uri": "https://localhost:8080/",
          "height": 390,
          "referenced_widgets": [
            "a3149fc7cc1b492c9faf2f27030de331",
            "e519c722a2cc4f518fac771d3c9232b9",
            "4bceb3cd48e1430a8bd6bced137612f9",
            "a02f5aa219d34da5b83927972b2b9e59",
            "d866f560acd44b0da95e212fa30df871",
            "5b8836f7982447c08d72ef1de2d0018c",
            "e20e5fc7ca5e4c65b88f17684139c327",
            "24e6d6ad46924adfbaa569ee9b05070a",
            "ee11160f68954009bae5ce3618748f8b",
            "6e1bb8c9cf204251b65888ce105b8511",
            "f0284561307c489cb532e3d5870205c0"
          ]
        },
        "id": "s7_AnvU5EzZz",
        "outputId": "45d17b7c-b881-438c-d81e-24aa15f3b3e7"
      },
      "source": [
        "model_name = 'xception'\n",
        "model = pretrainedmodels.__dict__[model_name](num_classes=1000, pretrained='imagenet')\n",
        "print(model)"
      ],
      "execution_count": null,
      "outputs": [
        {
          "output_type": "stream",
          "name": "stderr",
          "text": [
            "Downloading: \"http://data.lip6.fr/cadene/pretrainedmodels/xception-43020ad28.pth\" to /root/.cache/torch/hub/checkpoints/xception-43020ad28.pth\n"
          ]
        },
        {
          "output_type": "display_data",
          "data": {
            "application/vnd.jupyter.widget-view+json": {
              "model_id": "a3149fc7cc1b492c9faf2f27030de331",
              "version_minor": 0,
              "version_major": 2
            },
            "text/plain": [
              "  0%|          | 0.00/87.4M [00:00<?, ?B/s]"
            ]
          },
          "metadata": {}
        },
        {
          "output_type": "error",
          "ename": "KeyboardInterrupt",
          "evalue": "ignored",
          "traceback": [
            "\u001b[0;31m---------------------------------------------------------------------------\u001b[0m",
            "\u001b[0;31mKeyboardInterrupt\u001b[0m                         Traceback (most recent call last)",
            "\u001b[0;32m<ipython-input-38-35568a1094fc>\u001b[0m in \u001b[0;36m<module>\u001b[0;34m()\u001b[0m\n\u001b[1;32m      1\u001b[0m \u001b[0mmodel_name\u001b[0m \u001b[0;34m=\u001b[0m \u001b[0;34m'xception'\u001b[0m\u001b[0;34m\u001b[0m\u001b[0;34m\u001b[0m\u001b[0m\n\u001b[0;32m----> 2\u001b[0;31m \u001b[0mmodel\u001b[0m \u001b[0;34m=\u001b[0m \u001b[0mpretrainedmodels\u001b[0m\u001b[0;34m.\u001b[0m\u001b[0m__dict__\u001b[0m\u001b[0;34m[\u001b[0m\u001b[0mmodel_name\u001b[0m\u001b[0;34m]\u001b[0m\u001b[0;34m(\u001b[0m\u001b[0mnum_classes\u001b[0m\u001b[0;34m=\u001b[0m\u001b[0;36m1000\u001b[0m\u001b[0;34m,\u001b[0m \u001b[0mpretrained\u001b[0m\u001b[0;34m=\u001b[0m\u001b[0;34m'imagenet'\u001b[0m\u001b[0;34m)\u001b[0m\u001b[0;34m\u001b[0m\u001b[0;34m\u001b[0m\u001b[0m\n\u001b[0m\u001b[1;32m      3\u001b[0m \u001b[0mprint\u001b[0m\u001b[0;34m(\u001b[0m\u001b[0mmodel\u001b[0m\u001b[0;34m)\u001b[0m\u001b[0;34m\u001b[0m\u001b[0;34m\u001b[0m\u001b[0m\n",
            "\u001b[0;32m/usr/local/lib/python3.7/dist-packages/pretrainedmodels/models/xception.py\u001b[0m in \u001b[0;36mxception\u001b[0;34m(num_classes, pretrained)\u001b[0m\n\u001b[1;32m    221\u001b[0m \u001b[0;34m\u001b[0m\u001b[0m\n\u001b[1;32m    222\u001b[0m         \u001b[0mmodel\u001b[0m \u001b[0;34m=\u001b[0m \u001b[0mXception\u001b[0m\u001b[0;34m(\u001b[0m\u001b[0mnum_classes\u001b[0m\u001b[0;34m=\u001b[0m\u001b[0mnum_classes\u001b[0m\u001b[0;34m)\u001b[0m\u001b[0;34m\u001b[0m\u001b[0;34m\u001b[0m\u001b[0m\n\u001b[0;32m--> 223\u001b[0;31m         \u001b[0mmodel\u001b[0m\u001b[0;34m.\u001b[0m\u001b[0mload_state_dict\u001b[0m\u001b[0;34m(\u001b[0m\u001b[0mmodel_zoo\u001b[0m\u001b[0;34m.\u001b[0m\u001b[0mload_url\u001b[0m\u001b[0;34m(\u001b[0m\u001b[0msettings\u001b[0m\u001b[0;34m[\u001b[0m\u001b[0;34m'url'\u001b[0m\u001b[0;34m]\u001b[0m\u001b[0;34m)\u001b[0m\u001b[0;34m)\u001b[0m\u001b[0;34m\u001b[0m\u001b[0;34m\u001b[0m\u001b[0m\n\u001b[0m\u001b[1;32m    224\u001b[0m \u001b[0;34m\u001b[0m\u001b[0m\n\u001b[1;32m    225\u001b[0m         \u001b[0mmodel\u001b[0m\u001b[0;34m.\u001b[0m\u001b[0minput_space\u001b[0m \u001b[0;34m=\u001b[0m \u001b[0msettings\u001b[0m\u001b[0;34m[\u001b[0m\u001b[0;34m'input_space'\u001b[0m\u001b[0;34m]\u001b[0m\u001b[0;34m\u001b[0m\u001b[0;34m\u001b[0m\u001b[0m\n",
            "\u001b[0;32m/usr/local/lib/python3.7/dist-packages/torch/hub.py\u001b[0m in \u001b[0;36mload_state_dict_from_url\u001b[0;34m(url, model_dir, map_location, progress, check_hash, file_name)\u001b[0m\n\u001b[1;32m    551\u001b[0m             \u001b[0mr\u001b[0m \u001b[0;34m=\u001b[0m \u001b[0mHASH_REGEX\u001b[0m\u001b[0;34m.\u001b[0m\u001b[0msearch\u001b[0m\u001b[0;34m(\u001b[0m\u001b[0mfilename\u001b[0m\u001b[0;34m)\u001b[0m  \u001b[0;31m# r is Optional[Match[str]]\u001b[0m\u001b[0;34m\u001b[0m\u001b[0;34m\u001b[0m\u001b[0m\n\u001b[1;32m    552\u001b[0m             \u001b[0mhash_prefix\u001b[0m \u001b[0;34m=\u001b[0m \u001b[0mr\u001b[0m\u001b[0;34m.\u001b[0m\u001b[0mgroup\u001b[0m\u001b[0;34m(\u001b[0m\u001b[0;36m1\u001b[0m\u001b[0;34m)\u001b[0m \u001b[0;32mif\u001b[0m \u001b[0mr\u001b[0m \u001b[0;32melse\u001b[0m \u001b[0;32mNone\u001b[0m\u001b[0;34m\u001b[0m\u001b[0;34m\u001b[0m\u001b[0m\n\u001b[0;32m--> 553\u001b[0;31m         \u001b[0mdownload_url_to_file\u001b[0m\u001b[0;34m(\u001b[0m\u001b[0murl\u001b[0m\u001b[0;34m,\u001b[0m \u001b[0mcached_file\u001b[0m\u001b[0;34m,\u001b[0m \u001b[0mhash_prefix\u001b[0m\u001b[0;34m,\u001b[0m \u001b[0mprogress\u001b[0m\u001b[0;34m=\u001b[0m\u001b[0mprogress\u001b[0m\u001b[0;34m)\u001b[0m\u001b[0;34m\u001b[0m\u001b[0;34m\u001b[0m\u001b[0m\n\u001b[0m\u001b[1;32m    554\u001b[0m \u001b[0;34m\u001b[0m\u001b[0m\n\u001b[1;32m    555\u001b[0m     \u001b[0;32mif\u001b[0m \u001b[0m_is_legacy_zip_format\u001b[0m\u001b[0;34m(\u001b[0m\u001b[0mcached_file\u001b[0m\u001b[0;34m)\u001b[0m\u001b[0;34m:\u001b[0m\u001b[0;34m\u001b[0m\u001b[0;34m\u001b[0m\u001b[0m\n",
            "\u001b[0;32m/usr/local/lib/python3.7/dist-packages/torch/hub.py\u001b[0m in \u001b[0;36mdownload_url_to_file\u001b[0;34m(url, dst, hash_prefix, progress)\u001b[0m\n\u001b[1;32m    439\u001b[0m                   unit='B', unit_scale=True, unit_divisor=1024) as pbar:\n\u001b[1;32m    440\u001b[0m             \u001b[0;32mwhile\u001b[0m \u001b[0;32mTrue\u001b[0m\u001b[0;34m:\u001b[0m\u001b[0;34m\u001b[0m\u001b[0;34m\u001b[0m\u001b[0m\n\u001b[0;32m--> 441\u001b[0;31m                 \u001b[0mbuffer\u001b[0m \u001b[0;34m=\u001b[0m \u001b[0mu\u001b[0m\u001b[0;34m.\u001b[0m\u001b[0mread\u001b[0m\u001b[0;34m(\u001b[0m\u001b[0;36m8192\u001b[0m\u001b[0;34m)\u001b[0m\u001b[0;34m\u001b[0m\u001b[0;34m\u001b[0m\u001b[0m\n\u001b[0m\u001b[1;32m    442\u001b[0m                 \u001b[0;32mif\u001b[0m \u001b[0mlen\u001b[0m\u001b[0;34m(\u001b[0m\u001b[0mbuffer\u001b[0m\u001b[0;34m)\u001b[0m \u001b[0;34m==\u001b[0m \u001b[0;36m0\u001b[0m\u001b[0;34m:\u001b[0m\u001b[0;34m\u001b[0m\u001b[0;34m\u001b[0m\u001b[0m\n\u001b[1;32m    443\u001b[0m                     \u001b[0;32mbreak\u001b[0m\u001b[0;34m\u001b[0m\u001b[0;34m\u001b[0m\u001b[0m\n",
            "\u001b[0;32m/usr/lib/python3.7/http/client.py\u001b[0m in \u001b[0;36mread\u001b[0;34m(self, amt)\u001b[0m\n\u001b[1;32m    463\u001b[0m             \u001b[0;31m# Amount is given, implement using readinto\u001b[0m\u001b[0;34m\u001b[0m\u001b[0;34m\u001b[0m\u001b[0;34m\u001b[0m\u001b[0m\n\u001b[1;32m    464\u001b[0m             \u001b[0mb\u001b[0m \u001b[0;34m=\u001b[0m \u001b[0mbytearray\u001b[0m\u001b[0;34m(\u001b[0m\u001b[0mamt\u001b[0m\u001b[0;34m)\u001b[0m\u001b[0;34m\u001b[0m\u001b[0;34m\u001b[0m\u001b[0m\n\u001b[0;32m--> 465\u001b[0;31m             \u001b[0mn\u001b[0m \u001b[0;34m=\u001b[0m \u001b[0mself\u001b[0m\u001b[0;34m.\u001b[0m\u001b[0mreadinto\u001b[0m\u001b[0;34m(\u001b[0m\u001b[0mb\u001b[0m\u001b[0;34m)\u001b[0m\u001b[0;34m\u001b[0m\u001b[0;34m\u001b[0m\u001b[0m\n\u001b[0m\u001b[1;32m    466\u001b[0m             \u001b[0;32mreturn\u001b[0m \u001b[0mmemoryview\u001b[0m\u001b[0;34m(\u001b[0m\u001b[0mb\u001b[0m\u001b[0;34m)\u001b[0m\u001b[0;34m[\u001b[0m\u001b[0;34m:\u001b[0m\u001b[0mn\u001b[0m\u001b[0;34m]\u001b[0m\u001b[0;34m.\u001b[0m\u001b[0mtobytes\u001b[0m\u001b[0;34m(\u001b[0m\u001b[0;34m)\u001b[0m\u001b[0;34m\u001b[0m\u001b[0;34m\u001b[0m\u001b[0m\n\u001b[1;32m    467\u001b[0m         \u001b[0;32melse\u001b[0m\u001b[0;34m:\u001b[0m\u001b[0;34m\u001b[0m\u001b[0;34m\u001b[0m\u001b[0m\n",
            "\u001b[0;32m/usr/lib/python3.7/http/client.py\u001b[0m in \u001b[0;36mreadinto\u001b[0;34m(self, b)\u001b[0m\n\u001b[1;32m    507\u001b[0m         \u001b[0;31m# connection, and the user is reading more bytes than will be provided\u001b[0m\u001b[0;34m\u001b[0m\u001b[0;34m\u001b[0m\u001b[0;34m\u001b[0m\u001b[0m\n\u001b[1;32m    508\u001b[0m         \u001b[0;31m# (for example, reading in 1k chunks)\u001b[0m\u001b[0;34m\u001b[0m\u001b[0;34m\u001b[0m\u001b[0;34m\u001b[0m\u001b[0m\n\u001b[0;32m--> 509\u001b[0;31m         \u001b[0mn\u001b[0m \u001b[0;34m=\u001b[0m \u001b[0mself\u001b[0m\u001b[0;34m.\u001b[0m\u001b[0mfp\u001b[0m\u001b[0;34m.\u001b[0m\u001b[0mreadinto\u001b[0m\u001b[0;34m(\u001b[0m\u001b[0mb\u001b[0m\u001b[0;34m)\u001b[0m\u001b[0;34m\u001b[0m\u001b[0;34m\u001b[0m\u001b[0m\n\u001b[0m\u001b[1;32m    510\u001b[0m         \u001b[0;32mif\u001b[0m \u001b[0;32mnot\u001b[0m \u001b[0mn\u001b[0m \u001b[0;32mand\u001b[0m \u001b[0mb\u001b[0m\u001b[0;34m:\u001b[0m\u001b[0;34m\u001b[0m\u001b[0;34m\u001b[0m\u001b[0m\n\u001b[1;32m    511\u001b[0m             \u001b[0;31m# Ideally, we would raise IncompleteRead if the content-length\u001b[0m\u001b[0;34m\u001b[0m\u001b[0;34m\u001b[0m\u001b[0;34m\u001b[0m\u001b[0m\n",
            "\u001b[0;32m/usr/lib/python3.7/socket.py\u001b[0m in \u001b[0;36mreadinto\u001b[0;34m(self, b)\u001b[0m\n\u001b[1;32m    587\u001b[0m         \u001b[0;32mwhile\u001b[0m \u001b[0;32mTrue\u001b[0m\u001b[0;34m:\u001b[0m\u001b[0;34m\u001b[0m\u001b[0;34m\u001b[0m\u001b[0m\n\u001b[1;32m    588\u001b[0m             \u001b[0;32mtry\u001b[0m\u001b[0;34m:\u001b[0m\u001b[0;34m\u001b[0m\u001b[0;34m\u001b[0m\u001b[0m\n\u001b[0;32m--> 589\u001b[0;31m                 \u001b[0;32mreturn\u001b[0m \u001b[0mself\u001b[0m\u001b[0;34m.\u001b[0m\u001b[0m_sock\u001b[0m\u001b[0;34m.\u001b[0m\u001b[0mrecv_into\u001b[0m\u001b[0;34m(\u001b[0m\u001b[0mb\u001b[0m\u001b[0;34m)\u001b[0m\u001b[0;34m\u001b[0m\u001b[0;34m\u001b[0m\u001b[0m\n\u001b[0m\u001b[1;32m    590\u001b[0m             \u001b[0;32mexcept\u001b[0m \u001b[0mtimeout\u001b[0m\u001b[0;34m:\u001b[0m\u001b[0;34m\u001b[0m\u001b[0;34m\u001b[0m\u001b[0m\n\u001b[1;32m    591\u001b[0m                 \u001b[0mself\u001b[0m\u001b[0;34m.\u001b[0m\u001b[0m_timeout_occurred\u001b[0m \u001b[0;34m=\u001b[0m \u001b[0;32mTrue\u001b[0m\u001b[0;34m\u001b[0m\u001b[0;34m\u001b[0m\u001b[0m\n",
            "\u001b[0;32m/usr/lib/python3.7/ssl.py\u001b[0m in \u001b[0;36mrecv_into\u001b[0;34m(self, buffer, nbytes, flags)\u001b[0m\n\u001b[1;32m   1069\u001b[0m                   \u001b[0;34m\"non-zero flags not allowed in calls to recv_into() on %s\"\u001b[0m \u001b[0;34m%\u001b[0m\u001b[0;34m\u001b[0m\u001b[0;34m\u001b[0m\u001b[0m\n\u001b[1;32m   1070\u001b[0m                   self.__class__)\n\u001b[0;32m-> 1071\u001b[0;31m             \u001b[0;32mreturn\u001b[0m \u001b[0mself\u001b[0m\u001b[0;34m.\u001b[0m\u001b[0mread\u001b[0m\u001b[0;34m(\u001b[0m\u001b[0mnbytes\u001b[0m\u001b[0;34m,\u001b[0m \u001b[0mbuffer\u001b[0m\u001b[0;34m)\u001b[0m\u001b[0;34m\u001b[0m\u001b[0;34m\u001b[0m\u001b[0m\n\u001b[0m\u001b[1;32m   1072\u001b[0m         \u001b[0;32melse\u001b[0m\u001b[0;34m:\u001b[0m\u001b[0;34m\u001b[0m\u001b[0;34m\u001b[0m\u001b[0m\n\u001b[1;32m   1073\u001b[0m             \u001b[0;32mreturn\u001b[0m \u001b[0msuper\u001b[0m\u001b[0;34m(\u001b[0m\u001b[0;34m)\u001b[0m\u001b[0;34m.\u001b[0m\u001b[0mrecv_into\u001b[0m\u001b[0;34m(\u001b[0m\u001b[0mbuffer\u001b[0m\u001b[0;34m,\u001b[0m \u001b[0mnbytes\u001b[0m\u001b[0;34m,\u001b[0m \u001b[0mflags\u001b[0m\u001b[0;34m)\u001b[0m\u001b[0;34m\u001b[0m\u001b[0;34m\u001b[0m\u001b[0m\n",
            "\u001b[0;32m/usr/lib/python3.7/ssl.py\u001b[0m in \u001b[0;36mread\u001b[0;34m(self, len, buffer)\u001b[0m\n\u001b[1;32m    927\u001b[0m         \u001b[0;32mtry\u001b[0m\u001b[0;34m:\u001b[0m\u001b[0;34m\u001b[0m\u001b[0;34m\u001b[0m\u001b[0m\n\u001b[1;32m    928\u001b[0m             \u001b[0;32mif\u001b[0m \u001b[0mbuffer\u001b[0m \u001b[0;32mis\u001b[0m \u001b[0;32mnot\u001b[0m \u001b[0;32mNone\u001b[0m\u001b[0;34m:\u001b[0m\u001b[0;34m\u001b[0m\u001b[0;34m\u001b[0m\u001b[0m\n\u001b[0;32m--> 929\u001b[0;31m                 \u001b[0;32mreturn\u001b[0m \u001b[0mself\u001b[0m\u001b[0;34m.\u001b[0m\u001b[0m_sslobj\u001b[0m\u001b[0;34m.\u001b[0m\u001b[0mread\u001b[0m\u001b[0;34m(\u001b[0m\u001b[0mlen\u001b[0m\u001b[0;34m,\u001b[0m \u001b[0mbuffer\u001b[0m\u001b[0;34m)\u001b[0m\u001b[0;34m\u001b[0m\u001b[0;34m\u001b[0m\u001b[0m\n\u001b[0m\u001b[1;32m    930\u001b[0m             \u001b[0;32melse\u001b[0m\u001b[0;34m:\u001b[0m\u001b[0;34m\u001b[0m\u001b[0;34m\u001b[0m\u001b[0m\n\u001b[1;32m    931\u001b[0m                 \u001b[0;32mreturn\u001b[0m \u001b[0mself\u001b[0m\u001b[0;34m.\u001b[0m\u001b[0m_sslobj\u001b[0m\u001b[0;34m.\u001b[0m\u001b[0mread\u001b[0m\u001b[0;34m(\u001b[0m\u001b[0mlen\u001b[0m\u001b[0;34m)\u001b[0m\u001b[0;34m\u001b[0m\u001b[0;34m\u001b[0m\u001b[0m\n",
            "\u001b[0;31mKeyboardInterrupt\u001b[0m: "
          ]
        }
      ]
    },
    {
      "cell_type": "code",
      "metadata": {
        "id": "tCUGMiWmOX2E"
      },
      "source": [
        "def main():\n",
        "  # Set the logger\n",
        "  #set_logger(os.path.join('/content/gdrive/MyDrive/capstone/workings/Project_LocalMachine/checkpoint', 'train.log'))\n",
        "  # from torch.utils.tensorboard import SummaryWriter\n",
        "  # writer = SummaryWriter()\n",
        "\n",
        "  logging.info(\"Loading the datasets...\")\n",
        "  # fetch dataloaders\n",
        "  train_dataloader, dev_dataloader,test_dataloader, num_classes = get_loader(hyper_param[\"data_path\"]\n",
        "                                                                             ,num_workers=hyper_param[\"num_workers\"]\n",
        "                                                                             ,batch_size = hyper_param[\"batch_size\"])\n",
        "  logging.info(\"- done.\")\n",
        "  \n",
        "  logging.info(\"Loading the Pretrained Resnet18 Model for Transfer Learning\")\n",
        "  #Model based on Resnet18(Transfer Learning)\n",
        "  \n",
        "  #tl_resnet50 = models.resnet50(pretrained=True)\n",
        "  #tl_resnet50 = models.wide_resnet101_2(pretrained=True)\n",
        "  '''\n",
        "  #XCEPTION\n",
        "  model_name = 'xception'\n",
        "  tl_resnet50 = pretrainedmodels.__dict__[model_name](num_classes=1000, pretrained='imagenet')\n",
        "  print(tl_resnet50)\n",
        "  logging.info(\"- done.\")\n",
        "  #Freeze the wait to covert from fine tuining TL to fixed feature extractor\n",
        "  \n",
        "  for param in tl_resnet50.parameters():\n",
        "    if param.grad_fn != None:\n",
        "      param.requires_grad = False\n",
        "\n",
        "  \n",
        "  \n",
        "   \n",
        "\n",
        "  #num_ftrs = tl_resnet50.classifier[6].in_features\n",
        "  #tl_resnet50.classifier[6] = nn.Linear(num_ftrs, 2)\n",
        "  #num_ftrs = tl_resnet50.fc.in_features\n",
        "  num_ftrs=tl_resnet50.last_linear.in_features\n",
        "  tl_resnet50.fc = nn.Linear(num_ftrs, 2)\n",
        "  tl_resnet50.to(device)\n",
        "  print(tl_resnet50)\n",
        "  '''\n",
        "\n",
        "  \n",
        "  tl_resnet50 = MyVgg()\n",
        "  tl_resnet50.freeze()\n",
        "  tl_resnet50.to(device)\n",
        "  print(tl_resnet50)\n",
        "  \n",
        "  #Adam_optimizer = torch.optim.Adam(tl_resnet50.parameters(),lr = hyper_param[\"lr\"])\n",
        "  Adam_optimizer = optim.SGD(tl_resnet50.parameters(), lr=hyper_param[\"lr\"], momentum=0.9, weight_decay=5e-4)\n",
        "  scheduler = torch.optim.lr_scheduler.ReduceLROnPlateau(Adam_optimizer,mode='min',patience=1)\n",
        "  #scheduler = None\n",
        "  \n",
        "  '''\n",
        "  checkpoint_path =hyper_param['ckpnt_training']+'/last.pth.tar'\n",
        "  #checkpoint_path = \"/content/gdrive/MyDrive/capstone/workings/Project_LocalMachine/checkpoint/last.pth.tar\"\n",
        "  loaded_checkpoint = load_checkpoint(checkpoint_path,tl_resnet50,Adam_optimizer,scheduler)\n",
        "  train_loss,dev_loss,d_acc = loaded_checkpoint[\"train_loss\"],loaded_checkpoint[\"dev_loss\"], loaded_checkpoint[\"dev_acc\"]\n",
        "  print('='*20)\n",
        "  print(train_loss,dev_loss,d_acc)\n",
        "  print('='*20)\n",
        "  '''\n",
        "  \n",
        "  logging.info(f\"Starting training for {hyper_param['numEpochs']} epoch(s)\")\n",
        "  train_losses, valid_losses, valid_acc = train_step(tl_resnet50, train_dataloader, dev_dataloader,Adam_optimizer,scheduler,hyper_param[\"numEpochs\"])"
      ],
      "execution_count": null,
      "outputs": []
    },
    {
      "cell_type": "code",
      "metadata": {
        "colab": {
          "base_uri": "https://localhost:8080/",
          "height": 1000
        },
        "id": "NKkNdH-pN7De",
        "outputId": "3facdc61-43b1-4156-b5b1-ec1c95241f61"
      },
      "source": [
        "if __name__ == \"__main__\":\n",
        "  hyper_param = {\n",
        "    \"lr\": 1e-3,\n",
        "    \"batch_size\": 64,\n",
        "    \"numEpochs\": 100, \n",
        "    \"num_workers\": 2,\n",
        "    \"ckpnt_training\": \"/content/gdrive/MyDrive/capstone/checkpoint\",\n",
        "    \"checkpoint\":\"/content/gdrive/MyDrive/capstone/checkpoint/last.pth.tar\",\n",
        "    \"data_path\":\"/content/gdrive/MyDrive/capstone/workings/Project_LocalMachine/data2/images_handheld/\"\n",
        "  }\n",
        "  main()"
      ],
      "execution_count": null,
      "outputs": [
        {
          "output_type": "stream",
          "name": "stdout",
          "text": [
            "MyVgg(\n",
            "  (layer1): Sequential(\n",
            "    (0): Conv2d(3, 64, kernel_size=(3, 3), stride=(1, 1), padding=(1, 1))\n",
            "    (1): BatchNorm2d(64, eps=1e-05, momentum=0.1, affine=True, track_running_stats=True)\n",
            "    (2): ReLU(inplace=True)\n",
            "    (3): Conv2d(64, 64, kernel_size=(3, 3), stride=(1, 1), padding=(1, 1))\n",
            "    (4): BatchNorm2d(64, eps=1e-05, momentum=0.1, affine=True, track_running_stats=True)\n",
            "    (5): ReLU(inplace=True)\n",
            "    (6): MaxPool2d(kernel_size=2, stride=2, padding=0, dilation=1, ceil_mode=False)\n",
            "    (7): Conv2d(64, 128, kernel_size=(3, 3), stride=(1, 1), padding=(1, 1))\n",
            "    (8): BatchNorm2d(128, eps=1e-05, momentum=0.1, affine=True, track_running_stats=True)\n",
            "    (9): ReLU(inplace=True)\n",
            "    (10): Conv2d(128, 128, kernel_size=(3, 3), stride=(1, 1), padding=(1, 1))\n",
            "    (11): BatchNorm2d(128, eps=1e-05, momentum=0.1, affine=True, track_running_stats=True)\n",
            "    (12): ReLU(inplace=True)\n",
            "    (13): MaxPool2d(kernel_size=2, stride=2, padding=0, dilation=1, ceil_mode=False)\n",
            "    (14): Conv2d(128, 256, kernel_size=(3, 3), stride=(1, 1), padding=(1, 1))\n",
            "    (15): BatchNorm2d(256, eps=1e-05, momentum=0.1, affine=True, track_running_stats=True)\n",
            "    (16): ReLU(inplace=True)\n",
            "    (17): Conv2d(256, 256, kernel_size=(3, 3), stride=(1, 1), padding=(1, 1))\n",
            "    (18): BatchNorm2d(256, eps=1e-05, momentum=0.1, affine=True, track_running_stats=True)\n",
            "    (19): ReLU(inplace=True)\n",
            "    (20): Conv2d(256, 256, kernel_size=(3, 3), stride=(1, 1), padding=(1, 1))\n",
            "    (21): BatchNorm2d(256, eps=1e-05, momentum=0.1, affine=True, track_running_stats=True)\n",
            "    (22): ReLU(inplace=True)\n",
            "    (23): Conv2d(256, 256, kernel_size=(3, 3), stride=(1, 1), padding=(1, 1))\n",
            "    (24): BatchNorm2d(256, eps=1e-05, momentum=0.1, affine=True, track_running_stats=True)\n",
            "    (25): ReLU(inplace=True)\n",
            "    (26): MaxPool2d(kernel_size=2, stride=2, padding=0, dilation=1, ceil_mode=False)\n",
            "  )\n",
            "  (projector): Conv2d(256, 512, kernel_size=(1, 1), stride=(1, 1), bias=False)\n",
            "  (attn1): LinearAttentionBlock(\n",
            "    (op): Conv2d(512, 1, kernel_size=(1, 1), stride=(1, 1), bias=False)\n",
            "  )\n",
            "  (layer2): Sequential(\n",
            "    (0): Conv2d(256, 512, kernel_size=(3, 3), stride=(1, 1), padding=(1, 1))\n",
            "    (1): BatchNorm2d(512, eps=1e-05, momentum=0.1, affine=True, track_running_stats=True)\n",
            "    (2): ReLU(inplace=True)\n",
            "    (3): Conv2d(512, 512, kernel_size=(3, 3), stride=(1, 1), padding=(1, 1))\n",
            "    (4): BatchNorm2d(512, eps=1e-05, momentum=0.1, affine=True, track_running_stats=True)\n",
            "    (5): ReLU(inplace=True)\n",
            "    (6): Conv2d(512, 512, kernel_size=(3, 3), stride=(1, 1), padding=(1, 1))\n",
            "    (7): BatchNorm2d(512, eps=1e-05, momentum=0.1, affine=True, track_running_stats=True)\n",
            "    (8): ReLU(inplace=True)\n",
            "    (9): Conv2d(512, 512, kernel_size=(3, 3), stride=(1, 1), padding=(1, 1))\n",
            "    (10): BatchNorm2d(512, eps=1e-05, momentum=0.1, affine=True, track_running_stats=True)\n",
            "    (11): ReLU(inplace=True)\n",
            "    (12): MaxPool2d(kernel_size=2, stride=2, padding=0, dilation=1, ceil_mode=False)\n",
            "  )\n",
            "  (attn2): LinearAttentionBlock(\n",
            "    (op): Conv2d(512, 1, kernel_size=(1, 1), stride=(1, 1), bias=False)\n",
            "  )\n",
            "  (layer3): Sequential(\n",
            "    (0): Conv2d(512, 512, kernel_size=(3, 3), stride=(1, 1), padding=(1, 1))\n",
            "    (1): BatchNorm2d(512, eps=1e-05, momentum=0.1, affine=True, track_running_stats=True)\n",
            "    (2): ReLU(inplace=True)\n",
            "    (3): Conv2d(512, 512, kernel_size=(3, 3), stride=(1, 1), padding=(1, 1))\n",
            "    (4): BatchNorm2d(512, eps=1e-05, momentum=0.1, affine=True, track_running_stats=True)\n",
            "    (5): ReLU(inplace=True)\n",
            "    (6): Conv2d(512, 512, kernel_size=(3, 3), stride=(1, 1), padding=(1, 1))\n",
            "    (7): BatchNorm2d(512, eps=1e-05, momentum=0.1, affine=True, track_running_stats=True)\n",
            "    (8): ReLU(inplace=True)\n",
            "    (9): Conv2d(512, 512, kernel_size=(3, 3), stride=(1, 1), padding=(1, 1))\n",
            "    (10): BatchNorm2d(512, eps=1e-05, momentum=0.1, affine=True, track_running_stats=True)\n",
            "    (11): ReLU(inplace=True)\n",
            "    (12): MaxPool2d(kernel_size=2, stride=2, padding=0, dilation=1, ceil_mode=False)\n",
            "  )\n",
            "  (attn3): LinearAttentionBlock(\n",
            "    (op): Conv2d(512, 1, kernel_size=(1, 1), stride=(1, 1), bias=False)\n",
            "  )\n",
            "  (dense): Conv2d(512, 512, kernel_size=(7, 7), stride=(1, 1))\n",
            "  (classify): Linear(in_features=1536, out_features=2, bias=True)\n",
            ")\n",
            "Current lr: \t0.001\n"
          ]
        },
        {
          "output_type": "stream",
          "name": "stderr",
          "text": [
            "100%|██████████| 20/20 [00:26<00:00,  1.31s/it, loss=0.693]"
          ]
        },
        {
          "output_type": "stream",
          "name": "stdout",
          "text": [
            "\n",
            "\n",
            "*************\n",
            "\n",
            "Epoch [1], loss: 0.01128057, acc: 51.3029\n"
          ]
        },
        {
          "output_type": "stream",
          "name": "stderr",
          "text": [
            "\n"
          ]
        },
        {
          "output_type": "stream",
          "name": "stdout",
          "text": [
            "[Classification valid] loss: 0.01349216, acc: 52.5974\n",
            "\n",
            "\n",
            "\n",
            " ====================\n",
            "Current lr: \t0.001\n"
          ]
        },
        {
          "output_type": "stream",
          "name": "stderr",
          "text": [
            "100%|██████████| 20/20 [00:27<00:00,  1.35s/it, loss=0.689]"
          ]
        },
        {
          "output_type": "stream",
          "name": "stdout",
          "text": [
            "\n",
            "\n",
            "*************\n",
            "\n",
            "Epoch [2], loss: 0.01121885, acc: 55.2932\n"
          ]
        },
        {
          "output_type": "stream",
          "name": "stderr",
          "text": [
            "\n"
          ]
        },
        {
          "output_type": "stream",
          "name": "stdout",
          "text": [
            "[Classification valid] loss: 0.01339949, acc: 59.0909\n",
            "\n",
            "\n",
            "\n",
            " ====================\n",
            "Current lr: \t0.001\n"
          ]
        },
        {
          "output_type": "stream",
          "name": "stderr",
          "text": [
            "100%|██████████| 20/20 [00:26<00:00,  1.35s/it, loss=0.686]"
          ]
        },
        {
          "output_type": "stream",
          "name": "stdout",
          "text": [
            "\n",
            "\n",
            "*************\n",
            "\n",
            "Epoch [3], loss: 0.01117001, acc: 59.9349\n"
          ]
        },
        {
          "output_type": "stream",
          "name": "stderr",
          "text": [
            "\n"
          ]
        },
        {
          "output_type": "stream",
          "name": "stdout",
          "text": [
            "[Classification valid] loss: 0.01333759, acc: 64.2857\n",
            "\n",
            "\n",
            "\n",
            " ====================\n",
            "Current lr: \t0.001\n"
          ]
        },
        {
          "output_type": "stream",
          "name": "stderr",
          "text": [
            "100%|██████████| 20/20 [00:26<00:00,  1.34s/it, loss=0.683]"
          ]
        },
        {
          "output_type": "stream",
          "name": "stdout",
          "text": [
            "\n",
            "\n",
            "*************\n",
            "\n",
            "Epoch [4], loss: 0.01112400, acc: 63.1107\n"
          ]
        },
        {
          "output_type": "stream",
          "name": "stderr",
          "text": [
            "\n"
          ]
        },
        {
          "output_type": "stream",
          "name": "stdout",
          "text": [
            "[Classification valid] loss: 0.01329134, acc: 66.2338\n",
            "\n",
            "\n",
            "\n",
            " ====================\n",
            "Current lr: \t0.001\n"
          ]
        },
        {
          "output_type": "stream",
          "name": "stderr",
          "text": [
            "100%|██████████| 20/20 [00:26<00:00,  1.33s/it, loss=0.681]"
          ]
        },
        {
          "output_type": "stream",
          "name": "stdout",
          "text": [
            "\n",
            "\n",
            "*************\n",
            "\n",
            "Epoch [5], loss: 0.01108445, acc: 66.0423\n"
          ]
        },
        {
          "output_type": "stream",
          "name": "stderr",
          "text": [
            "\n"
          ]
        },
        {
          "output_type": "stream",
          "name": "stdout",
          "text": [
            "[Classification valid] loss: 0.01326776, acc: 71.4286\n",
            "\n",
            "\n",
            "\n",
            " ====================\n",
            "Current lr: \t0.001\n"
          ]
        },
        {
          "output_type": "stream",
          "name": "stderr",
          "text": [
            "100%|██████████| 20/20 [00:26<00:00,  1.34s/it, loss=0.677]"
          ]
        },
        {
          "output_type": "stream",
          "name": "stdout",
          "text": [
            "\n",
            "\n",
            "*************\n",
            "\n",
            "Epoch [6], loss: 0.01102493, acc: 70.1140\n"
          ]
        },
        {
          "output_type": "stream",
          "name": "stderr",
          "text": [
            "\n"
          ]
        },
        {
          "output_type": "stream",
          "name": "stdout",
          "text": [
            "[Classification valid] loss: 0.01314143, acc: 70.7792\n",
            "\n",
            "\n",
            "\n",
            " ====================\n",
            "Current lr: \t0.001\n"
          ]
        },
        {
          "output_type": "stream",
          "name": "stderr",
          "text": [
            "100%|██████████| 20/20 [00:26<00:00,  1.34s/it, loss=0.675]"
          ]
        },
        {
          "output_type": "stream",
          "name": "stdout",
          "text": [
            "\n",
            "\n",
            "*************\n",
            "\n",
            "Epoch [7], loss: 0.01098657, acc: 70.1140\n"
          ]
        },
        {
          "output_type": "stream",
          "name": "stderr",
          "text": [
            "\n"
          ]
        },
        {
          "output_type": "stream",
          "name": "stdout",
          "text": [
            "[Classification valid] loss: 0.01316619, acc: 76.6234\n",
            "\n",
            "\n",
            "\n",
            " ====================\n",
            "Current lr: \t0.001\n"
          ]
        },
        {
          "output_type": "stream",
          "name": "stderr",
          "text": [
            "100%|██████████| 20/20 [00:27<00:00,  1.35s/it, loss=0.671]"
          ]
        },
        {
          "output_type": "stream",
          "name": "stdout",
          "text": [
            "\n",
            "\n",
            "*************\n",
            "\n",
            "Epoch [8], loss: 0.01092227, acc: 73.3713\n"
          ]
        },
        {
          "output_type": "stream",
          "name": "stderr",
          "text": [
            "\n"
          ]
        },
        {
          "output_type": "stream",
          "name": "stdout",
          "text": [
            "[Classification valid] loss: 0.01302277, acc: 75.3247\n",
            "\n",
            "\n",
            "\n",
            " ====================\n",
            "Current lr: \t0.001\n"
          ]
        },
        {
          "output_type": "stream",
          "name": "stderr",
          "text": [
            "100%|██████████| 20/20 [00:26<00:00,  1.34s/it, loss=0.668]"
          ]
        },
        {
          "output_type": "stream",
          "name": "stdout",
          "text": [
            "\n",
            "\n",
            "*************\n",
            "\n",
            "Epoch [9], loss: 0.01088220, acc: 73.9414\n"
          ]
        },
        {
          "output_type": "stream",
          "name": "stderr",
          "text": [
            "\n"
          ]
        },
        {
          "output_type": "stream",
          "name": "stdout",
          "text": [
            "[Classification valid] loss: 0.01303188, acc: 75.3247\n",
            "\n",
            "\n",
            "\n",
            " ====================\n",
            "Current lr: \t0.001\n"
          ]
        },
        {
          "output_type": "stream",
          "name": "stderr",
          "text": [
            "100%|██████████| 20/20 [00:26<00:00,  1.34s/it, loss=0.665]"
          ]
        },
        {
          "output_type": "stream",
          "name": "stdout",
          "text": [
            "\n",
            "\n",
            "*************\n",
            "\n",
            "Epoch [10], loss: 0.01083706, acc: 73.4528\n"
          ]
        },
        {
          "output_type": "stream",
          "name": "stderr",
          "text": [
            "\n"
          ]
        },
        {
          "output_type": "stream",
          "name": "stdout",
          "text": [
            "[Classification valid] loss: 0.01297879, acc: 74.0260\n",
            "\n",
            "\n",
            "\n",
            " ====================\n",
            "Current lr: \t0.001\n"
          ]
        },
        {
          "output_type": "stream",
          "name": "stderr",
          "text": [
            "100%|██████████| 20/20 [00:26<00:00,  1.35s/it, loss=0.661]"
          ]
        },
        {
          "output_type": "stream",
          "name": "stdout",
          "text": [
            "\n",
            "\n",
            "*************\n",
            "\n",
            "Epoch [11], loss: 0.01077317, acc: 74.2671\n"
          ]
        },
        {
          "output_type": "stream",
          "name": "stderr",
          "text": [
            "\n"
          ]
        },
        {
          "output_type": "stream",
          "name": "stdout",
          "text": [
            "[Classification valid] loss: 0.01292092, acc: 70.7792\n",
            "\n",
            "\n",
            "\n",
            " ====================\n",
            "Current lr: \t0.001\n"
          ]
        },
        {
          "output_type": "stream",
          "name": "stderr",
          "text": [
            "100%|██████████| 20/20 [00:26<00:00,  1.34s/it, loss=0.660]"
          ]
        },
        {
          "output_type": "stream",
          "name": "stdout",
          "text": [
            "\n",
            "\n",
            "*************\n",
            "\n",
            "Epoch [12], loss: 0.01075183, acc: 68.7296\n"
          ]
        },
        {
          "output_type": "stream",
          "name": "stderr",
          "text": [
            "\n"
          ]
        },
        {
          "output_type": "stream",
          "name": "stdout",
          "text": [
            "[Classification valid] loss: 0.01285321, acc: 68.8312\n",
            "\n",
            "\n",
            "\n",
            " ====================\n",
            "Current lr: \t0.001\n"
          ]
        },
        {
          "output_type": "stream",
          "name": "stderr",
          "text": [
            " 20%|██        | 4/20 [00:07<00:31,  1.94s/it, loss=0.658]\n"
          ]
        },
        {
          "output_type": "error",
          "ename": "KeyboardInterrupt",
          "evalue": "ignored",
          "traceback": [
            "\u001b[0;31m---------------------------------------------------------------------------\u001b[0m",
            "\u001b[0;31mKeyboardInterrupt\u001b[0m                         Traceback (most recent call last)",
            "\u001b[0;32m<ipython-input-35-d599aede78d5>\u001b[0m in \u001b[0;36m<module>\u001b[0;34m()\u001b[0m\n\u001b[1;32m      9\u001b[0m     \u001b[0;34m\"data_path\"\u001b[0m\u001b[0;34m:\u001b[0m\u001b[0;34m\"/content/gdrive/MyDrive/capstone/workings/Project_LocalMachine/data2/images_handheld/\"\u001b[0m\u001b[0;34m\u001b[0m\u001b[0;34m\u001b[0m\u001b[0m\n\u001b[1;32m     10\u001b[0m   }\n\u001b[0;32m---> 11\u001b[0;31m   \u001b[0mmain\u001b[0m\u001b[0;34m(\u001b[0m\u001b[0;34m)\u001b[0m\u001b[0;34m\u001b[0m\u001b[0;34m\u001b[0m\u001b[0m\n\u001b[0m",
            "\u001b[0;32m<ipython-input-32-b7ccd1e769e6>\u001b[0m in \u001b[0;36mmain\u001b[0;34m()\u001b[0m\n\u001b[1;32m     64\u001b[0m \u001b[0;34m\u001b[0m\u001b[0m\n\u001b[1;32m     65\u001b[0m   \u001b[0mlogging\u001b[0m\u001b[0;34m.\u001b[0m\u001b[0minfo\u001b[0m\u001b[0;34m(\u001b[0m\u001b[0;34mf\"Starting training for {hyper_param['numEpochs']} epoch(s)\"\u001b[0m\u001b[0;34m)\u001b[0m\u001b[0;34m\u001b[0m\u001b[0;34m\u001b[0m\u001b[0m\n\u001b[0;32m---> 66\u001b[0;31m   \u001b[0mtrain_losses\u001b[0m\u001b[0;34m,\u001b[0m \u001b[0mvalid_losses\u001b[0m\u001b[0;34m,\u001b[0m \u001b[0mvalid_acc\u001b[0m \u001b[0;34m=\u001b[0m \u001b[0mtrain_step\u001b[0m\u001b[0;34m(\u001b[0m\u001b[0mtl_resnet50\u001b[0m\u001b[0;34m,\u001b[0m \u001b[0mtrain_dataloader\u001b[0m\u001b[0;34m,\u001b[0m \u001b[0mdev_dataloader\u001b[0m\u001b[0;34m,\u001b[0m\u001b[0mAdam_optimizer\u001b[0m\u001b[0;34m,\u001b[0m\u001b[0mscheduler\u001b[0m\u001b[0;34m,\u001b[0m\u001b[0mhyper_param\u001b[0m\u001b[0;34m[\u001b[0m\u001b[0;34m\"numEpochs\"\u001b[0m\u001b[0;34m]\u001b[0m\u001b[0;34m)\u001b[0m\u001b[0;34m\u001b[0m\u001b[0;34m\u001b[0m\u001b[0m\n\u001b[0m",
            "\u001b[0;32m<ipython-input-29-f28048f12420>\u001b[0m in \u001b[0;36mtrain_step\u001b[0;34m(net, loader, dev_loader, optimizer, scheduler, epochs)\u001b[0m\n\u001b[1;32m     14\u001b[0m       \u001b[0mwriter\u001b[0m\u001b[0;34m.\u001b[0m\u001b[0madd_scalar\u001b[0m\u001b[0;34m(\u001b[0m\u001b[0;34m'train/learning_rate'\u001b[0m\u001b[0;34m,\u001b[0m \u001b[0moptimizer\u001b[0m\u001b[0;34m.\u001b[0m\u001b[0mparam_groups\u001b[0m\u001b[0;34m[\u001b[0m\u001b[0;36m0\u001b[0m\u001b[0;34m]\u001b[0m\u001b[0;34m[\u001b[0m\u001b[0;34m'lr'\u001b[0m\u001b[0;34m]\u001b[0m\u001b[0;34m,\u001b[0m \u001b[0mepoch\u001b[0m\u001b[0;34m)\u001b[0m\u001b[0;34m\u001b[0m\u001b[0;34m\u001b[0m\u001b[0m\n\u001b[1;32m     15\u001b[0m \u001b[0;34m\u001b[0m\u001b[0m\n\u001b[0;32m---> 16\u001b[0;31m     \u001b[0mavg_loss_t\u001b[0m\u001b[0;34m,\u001b[0m \u001b[0macc_t\u001b[0m \u001b[0;34m=\u001b[0m \u001b[0mone_epoch\u001b[0m\u001b[0;34m(\u001b[0m\u001b[0mepoch\u001b[0m\u001b[0;34m,\u001b[0m \u001b[0mnet\u001b[0m\u001b[0;34m,\u001b[0m \u001b[0mloader\u001b[0m\u001b[0;34m,\u001b[0m \u001b[0moptimizer\u001b[0m\u001b[0;34m,\u001b[0m\u001b[0mimages_disp\u001b[0m\u001b[0;34m)\u001b[0m\u001b[0;34m\u001b[0m\u001b[0;34m\u001b[0m\u001b[0m\n\u001b[0m\u001b[1;32m     17\u001b[0m \u001b[0;34m\u001b[0m\u001b[0m\n\u001b[1;32m     18\u001b[0m     \u001b[0mprint\u001b[0m\u001b[0;34m(\u001b[0m\u001b[0;34mf'\\n\\n*************\\n'\u001b[0m\u001b[0;34m)\u001b[0m\u001b[0;34m\u001b[0m\u001b[0;34m\u001b[0m\u001b[0m\n",
            "\u001b[0;32m<ipython-input-27-60cc92d887ba>\u001b[0m in \u001b[0;36mone_epoch\u001b[0;34m(epoch, net, loader, optimizer, images_disp)\u001b[0m\n\u001b[1;32m     23\u001b[0m       \u001b[0mtotal\u001b[0m \u001b[0;34m+=\u001b[0m \u001b[0mlabels\u001b[0m\u001b[0;34m.\u001b[0m\u001b[0msize\u001b[0m\u001b[0;34m(\u001b[0m\u001b[0;36m0\u001b[0m\u001b[0;34m)\u001b[0m\u001b[0;34m\u001b[0m\u001b[0;34m\u001b[0m\u001b[0m\n\u001b[1;32m     24\u001b[0m       \u001b[0mcorrect\u001b[0m \u001b[0;34m+=\u001b[0m \u001b[0;34m(\u001b[0m\u001b[0mpredicted\u001b[0m \u001b[0;34m==\u001b[0m \u001b[0mlabels\u001b[0m\u001b[0;34m)\u001b[0m\u001b[0;34m.\u001b[0m\u001b[0msum\u001b[0m\u001b[0;34m(\u001b[0m\u001b[0;34m)\u001b[0m\u001b[0;34m.\u001b[0m\u001b[0mitem\u001b[0m\u001b[0;34m(\u001b[0m\u001b[0;34m)\u001b[0m\u001b[0;34m\u001b[0m\u001b[0;34m\u001b[0m\u001b[0m\n\u001b[0;32m---> 25\u001b[0;31m       \u001b[0mtorch\u001b[0m\u001b[0;34m.\u001b[0m\u001b[0mcuda\u001b[0m\u001b[0;34m.\u001b[0m\u001b[0mempty_cache\u001b[0m\u001b[0;34m(\u001b[0m\u001b[0;34m)\u001b[0m\u001b[0;34m\u001b[0m\u001b[0;34m\u001b[0m\u001b[0m\n\u001b[0m\u001b[1;32m     26\u001b[0m       \u001b[0mloss_avg\u001b[0m\u001b[0;34m.\u001b[0m\u001b[0mupdate\u001b[0m\u001b[0;34m(\u001b[0m\u001b[0mloss\u001b[0m\u001b[0;34m.\u001b[0m\u001b[0mitem\u001b[0m\u001b[0;34m(\u001b[0m\u001b[0;34m)\u001b[0m\u001b[0;34m)\u001b[0m\u001b[0;34m\u001b[0m\u001b[0;34m\u001b[0m\u001b[0m\n\u001b[1;32m     27\u001b[0m \u001b[0;34m\u001b[0m\u001b[0m\n",
            "\u001b[0;32m/usr/local/lib/python3.7/dist-packages/torch/cuda/memory.py\u001b[0m in \u001b[0;36mempty_cache\u001b[0;34m()\u001b[0m\n\u001b[1;32m    112\u001b[0m     \"\"\"\n\u001b[1;32m    113\u001b[0m     \u001b[0;32mif\u001b[0m \u001b[0mis_initialized\u001b[0m\u001b[0;34m(\u001b[0m\u001b[0;34m)\u001b[0m\u001b[0;34m:\u001b[0m\u001b[0;34m\u001b[0m\u001b[0;34m\u001b[0m\u001b[0m\n\u001b[0;32m--> 114\u001b[0;31m         \u001b[0mtorch\u001b[0m\u001b[0;34m.\u001b[0m\u001b[0m_C\u001b[0m\u001b[0;34m.\u001b[0m\u001b[0m_cuda_emptyCache\u001b[0m\u001b[0;34m(\u001b[0m\u001b[0;34m)\u001b[0m\u001b[0;34m\u001b[0m\u001b[0;34m\u001b[0m\u001b[0m\n\u001b[0m\u001b[1;32m    115\u001b[0m \u001b[0;34m\u001b[0m\u001b[0m\n\u001b[1;32m    116\u001b[0m \u001b[0;34m\u001b[0m\u001b[0m\n",
            "\u001b[0;31mKeyboardInterrupt\u001b[0m: "
          ]
        }
      ]
    },
    {
      "cell_type": "code",
      "metadata": {
        "id": "jKrU9wnNN9bk"
      },
      "source": [
        "%reload_ext tensorboard\n",
        "%tensorboard --logdir ./runs/ --samples_per_plugin images=100"
      ],
      "execution_count": null,
      "outputs": []
    },
    {
      "cell_type": "markdown",
      "metadata": {
        "id": "ZzD6Y1WAODMY"
      },
      "source": [
        "Check Pretrained VGG Extractor Parameters"
      ]
    },
    {
      "cell_type": "markdown",
      "metadata": {
        "id": "pYcvCUMp3XI-"
      },
      "source": [
        "Inference"
      ]
    },
    {
      "cell_type": "code",
      "metadata": {
        "colab": {
          "base_uri": "https://localhost:8080/"
        },
        "id": "dhfcip3U27Em",
        "outputId": "452bc229-2374-4c23-a655-f1e40a424f0f"
      },
      "source": [
        "'''\n",
        "tl_resnet50 = MyVgg()\n",
        "tl_resnet50.freeze()\n",
        "tl_resnet50.to(device)\n",
        "print(tl_resnet50)\n",
        "'''\n",
        "model_name = 'xception'\n",
        "tl_resnet50 = pretrainedmodels.__dict__[model_name](num_classes=1000, pretrained='imagenet')\n",
        "\n",
        "for param in tl_resnet50.parameters():\n",
        "  if param.grad_fn != None:\n",
        "    param.requires_grad = False\n",
        "\n",
        "\n",
        "num_ftrs=tl_resnet50.last_linear.in_features\n",
        "tl_resnet50.fc = nn.Linear(num_ftrs, 2)\n",
        "tl_resnet50.to(device)\n",
        "print(tl_resnet50)"
      ],
      "execution_count": null,
      "outputs": [
        {
          "output_type": "stream",
          "name": "stdout",
          "text": [
            "Xception(\n",
            "  (conv1): Conv2d(3, 32, kernel_size=(3, 3), stride=(2, 2), bias=False)\n",
            "  (bn1): BatchNorm2d(32, eps=1e-05, momentum=0.1, affine=True, track_running_stats=True)\n",
            "  (relu): ReLU(inplace=True)\n",
            "  (conv2): Conv2d(32, 64, kernel_size=(3, 3), stride=(1, 1), bias=False)\n",
            "  (bn2): BatchNorm2d(64, eps=1e-05, momentum=0.1, affine=True, track_running_stats=True)\n",
            "  (block1): Block(\n",
            "    (skip): Conv2d(64, 128, kernel_size=(1, 1), stride=(2, 2), bias=False)\n",
            "    (skipbn): BatchNorm2d(128, eps=1e-05, momentum=0.1, affine=True, track_running_stats=True)\n",
            "    (relu): ReLU(inplace=True)\n",
            "    (rep): Sequential(\n",
            "      (0): SeparableConv2d(\n",
            "        (conv1): Conv2d(64, 64, kernel_size=(3, 3), stride=(1, 1), padding=(1, 1), groups=64, bias=False)\n",
            "        (pointwise): Conv2d(64, 128, kernel_size=(1, 1), stride=(1, 1), bias=False)\n",
            "      )\n",
            "      (1): BatchNorm2d(128, eps=1e-05, momentum=0.1, affine=True, track_running_stats=True)\n",
            "      (2): ReLU(inplace=True)\n",
            "      (3): SeparableConv2d(\n",
            "        (conv1): Conv2d(128, 128, kernel_size=(3, 3), stride=(1, 1), padding=(1, 1), groups=128, bias=False)\n",
            "        (pointwise): Conv2d(128, 128, kernel_size=(1, 1), stride=(1, 1), bias=False)\n",
            "      )\n",
            "      (4): BatchNorm2d(128, eps=1e-05, momentum=0.1, affine=True, track_running_stats=True)\n",
            "      (5): MaxPool2d(kernel_size=3, stride=2, padding=1, dilation=1, ceil_mode=False)\n",
            "    )\n",
            "  )\n",
            "  (block2): Block(\n",
            "    (skip): Conv2d(128, 256, kernel_size=(1, 1), stride=(2, 2), bias=False)\n",
            "    (skipbn): BatchNorm2d(256, eps=1e-05, momentum=0.1, affine=True, track_running_stats=True)\n",
            "    (relu): ReLU(inplace=True)\n",
            "    (rep): Sequential(\n",
            "      (0): ReLU()\n",
            "      (1): SeparableConv2d(\n",
            "        (conv1): Conv2d(128, 128, kernel_size=(3, 3), stride=(1, 1), padding=(1, 1), groups=128, bias=False)\n",
            "        (pointwise): Conv2d(128, 256, kernel_size=(1, 1), stride=(1, 1), bias=False)\n",
            "      )\n",
            "      (2): BatchNorm2d(256, eps=1e-05, momentum=0.1, affine=True, track_running_stats=True)\n",
            "      (3): ReLU(inplace=True)\n",
            "      (4): SeparableConv2d(\n",
            "        (conv1): Conv2d(256, 256, kernel_size=(3, 3), stride=(1, 1), padding=(1, 1), groups=256, bias=False)\n",
            "        (pointwise): Conv2d(256, 256, kernel_size=(1, 1), stride=(1, 1), bias=False)\n",
            "      )\n",
            "      (5): BatchNorm2d(256, eps=1e-05, momentum=0.1, affine=True, track_running_stats=True)\n",
            "      (6): MaxPool2d(kernel_size=3, stride=2, padding=1, dilation=1, ceil_mode=False)\n",
            "    )\n",
            "  )\n",
            "  (block3): Block(\n",
            "    (skip): Conv2d(256, 728, kernel_size=(1, 1), stride=(2, 2), bias=False)\n",
            "    (skipbn): BatchNorm2d(728, eps=1e-05, momentum=0.1, affine=True, track_running_stats=True)\n",
            "    (relu): ReLU(inplace=True)\n",
            "    (rep): Sequential(\n",
            "      (0): ReLU()\n",
            "      (1): SeparableConv2d(\n",
            "        (conv1): Conv2d(256, 256, kernel_size=(3, 3), stride=(1, 1), padding=(1, 1), groups=256, bias=False)\n",
            "        (pointwise): Conv2d(256, 728, kernel_size=(1, 1), stride=(1, 1), bias=False)\n",
            "      )\n",
            "      (2): BatchNorm2d(728, eps=1e-05, momentum=0.1, affine=True, track_running_stats=True)\n",
            "      (3): ReLU(inplace=True)\n",
            "      (4): SeparableConv2d(\n",
            "        (conv1): Conv2d(728, 728, kernel_size=(3, 3), stride=(1, 1), padding=(1, 1), groups=728, bias=False)\n",
            "        (pointwise): Conv2d(728, 728, kernel_size=(1, 1), stride=(1, 1), bias=False)\n",
            "      )\n",
            "      (5): BatchNorm2d(728, eps=1e-05, momentum=0.1, affine=True, track_running_stats=True)\n",
            "      (6): MaxPool2d(kernel_size=3, stride=2, padding=1, dilation=1, ceil_mode=False)\n",
            "    )\n",
            "  )\n",
            "  (block4): Block(\n",
            "    (relu): ReLU(inplace=True)\n",
            "    (rep): Sequential(\n",
            "      (0): ReLU()\n",
            "      (1): SeparableConv2d(\n",
            "        (conv1): Conv2d(728, 728, kernel_size=(3, 3), stride=(1, 1), padding=(1, 1), groups=728, bias=False)\n",
            "        (pointwise): Conv2d(728, 728, kernel_size=(1, 1), stride=(1, 1), bias=False)\n",
            "      )\n",
            "      (2): BatchNorm2d(728, eps=1e-05, momentum=0.1, affine=True, track_running_stats=True)\n",
            "      (3): ReLU(inplace=True)\n",
            "      (4): SeparableConv2d(\n",
            "        (conv1): Conv2d(728, 728, kernel_size=(3, 3), stride=(1, 1), padding=(1, 1), groups=728, bias=False)\n",
            "        (pointwise): Conv2d(728, 728, kernel_size=(1, 1), stride=(1, 1), bias=False)\n",
            "      )\n",
            "      (5): BatchNorm2d(728, eps=1e-05, momentum=0.1, affine=True, track_running_stats=True)\n",
            "      (6): ReLU(inplace=True)\n",
            "      (7): SeparableConv2d(\n",
            "        (conv1): Conv2d(728, 728, kernel_size=(3, 3), stride=(1, 1), padding=(1, 1), groups=728, bias=False)\n",
            "        (pointwise): Conv2d(728, 728, kernel_size=(1, 1), stride=(1, 1), bias=False)\n",
            "      )\n",
            "      (8): BatchNorm2d(728, eps=1e-05, momentum=0.1, affine=True, track_running_stats=True)\n",
            "    )\n",
            "  )\n",
            "  (block5): Block(\n",
            "    (relu): ReLU(inplace=True)\n",
            "    (rep): Sequential(\n",
            "      (0): ReLU()\n",
            "      (1): SeparableConv2d(\n",
            "        (conv1): Conv2d(728, 728, kernel_size=(3, 3), stride=(1, 1), padding=(1, 1), groups=728, bias=False)\n",
            "        (pointwise): Conv2d(728, 728, kernel_size=(1, 1), stride=(1, 1), bias=False)\n",
            "      )\n",
            "      (2): BatchNorm2d(728, eps=1e-05, momentum=0.1, affine=True, track_running_stats=True)\n",
            "      (3): ReLU(inplace=True)\n",
            "      (4): SeparableConv2d(\n",
            "        (conv1): Conv2d(728, 728, kernel_size=(3, 3), stride=(1, 1), padding=(1, 1), groups=728, bias=False)\n",
            "        (pointwise): Conv2d(728, 728, kernel_size=(1, 1), stride=(1, 1), bias=False)\n",
            "      )\n",
            "      (5): BatchNorm2d(728, eps=1e-05, momentum=0.1, affine=True, track_running_stats=True)\n",
            "      (6): ReLU(inplace=True)\n",
            "      (7): SeparableConv2d(\n",
            "        (conv1): Conv2d(728, 728, kernel_size=(3, 3), stride=(1, 1), padding=(1, 1), groups=728, bias=False)\n",
            "        (pointwise): Conv2d(728, 728, kernel_size=(1, 1), stride=(1, 1), bias=False)\n",
            "      )\n",
            "      (8): BatchNorm2d(728, eps=1e-05, momentum=0.1, affine=True, track_running_stats=True)\n",
            "    )\n",
            "  )\n",
            "  (block6): Block(\n",
            "    (relu): ReLU(inplace=True)\n",
            "    (rep): Sequential(\n",
            "      (0): ReLU()\n",
            "      (1): SeparableConv2d(\n",
            "        (conv1): Conv2d(728, 728, kernel_size=(3, 3), stride=(1, 1), padding=(1, 1), groups=728, bias=False)\n",
            "        (pointwise): Conv2d(728, 728, kernel_size=(1, 1), stride=(1, 1), bias=False)\n",
            "      )\n",
            "      (2): BatchNorm2d(728, eps=1e-05, momentum=0.1, affine=True, track_running_stats=True)\n",
            "      (3): ReLU(inplace=True)\n",
            "      (4): SeparableConv2d(\n",
            "        (conv1): Conv2d(728, 728, kernel_size=(3, 3), stride=(1, 1), padding=(1, 1), groups=728, bias=False)\n",
            "        (pointwise): Conv2d(728, 728, kernel_size=(1, 1), stride=(1, 1), bias=False)\n",
            "      )\n",
            "      (5): BatchNorm2d(728, eps=1e-05, momentum=0.1, affine=True, track_running_stats=True)\n",
            "      (6): ReLU(inplace=True)\n",
            "      (7): SeparableConv2d(\n",
            "        (conv1): Conv2d(728, 728, kernel_size=(3, 3), stride=(1, 1), padding=(1, 1), groups=728, bias=False)\n",
            "        (pointwise): Conv2d(728, 728, kernel_size=(1, 1), stride=(1, 1), bias=False)\n",
            "      )\n",
            "      (8): BatchNorm2d(728, eps=1e-05, momentum=0.1, affine=True, track_running_stats=True)\n",
            "    )\n",
            "  )\n",
            "  (block7): Block(\n",
            "    (relu): ReLU(inplace=True)\n",
            "    (rep): Sequential(\n",
            "      (0): ReLU()\n",
            "      (1): SeparableConv2d(\n",
            "        (conv1): Conv2d(728, 728, kernel_size=(3, 3), stride=(1, 1), padding=(1, 1), groups=728, bias=False)\n",
            "        (pointwise): Conv2d(728, 728, kernel_size=(1, 1), stride=(1, 1), bias=False)\n",
            "      )\n",
            "      (2): BatchNorm2d(728, eps=1e-05, momentum=0.1, affine=True, track_running_stats=True)\n",
            "      (3): ReLU(inplace=True)\n",
            "      (4): SeparableConv2d(\n",
            "        (conv1): Conv2d(728, 728, kernel_size=(3, 3), stride=(1, 1), padding=(1, 1), groups=728, bias=False)\n",
            "        (pointwise): Conv2d(728, 728, kernel_size=(1, 1), stride=(1, 1), bias=False)\n",
            "      )\n",
            "      (5): BatchNorm2d(728, eps=1e-05, momentum=0.1, affine=True, track_running_stats=True)\n",
            "      (6): ReLU(inplace=True)\n",
            "      (7): SeparableConv2d(\n",
            "        (conv1): Conv2d(728, 728, kernel_size=(3, 3), stride=(1, 1), padding=(1, 1), groups=728, bias=False)\n",
            "        (pointwise): Conv2d(728, 728, kernel_size=(1, 1), stride=(1, 1), bias=False)\n",
            "      )\n",
            "      (8): BatchNorm2d(728, eps=1e-05, momentum=0.1, affine=True, track_running_stats=True)\n",
            "    )\n",
            "  )\n",
            "  (block8): Block(\n",
            "    (relu): ReLU(inplace=True)\n",
            "    (rep): Sequential(\n",
            "      (0): ReLU()\n",
            "      (1): SeparableConv2d(\n",
            "        (conv1): Conv2d(728, 728, kernel_size=(3, 3), stride=(1, 1), padding=(1, 1), groups=728, bias=False)\n",
            "        (pointwise): Conv2d(728, 728, kernel_size=(1, 1), stride=(1, 1), bias=False)\n",
            "      )\n",
            "      (2): BatchNorm2d(728, eps=1e-05, momentum=0.1, affine=True, track_running_stats=True)\n",
            "      (3): ReLU(inplace=True)\n",
            "      (4): SeparableConv2d(\n",
            "        (conv1): Conv2d(728, 728, kernel_size=(3, 3), stride=(1, 1), padding=(1, 1), groups=728, bias=False)\n",
            "        (pointwise): Conv2d(728, 728, kernel_size=(1, 1), stride=(1, 1), bias=False)\n",
            "      )\n",
            "      (5): BatchNorm2d(728, eps=1e-05, momentum=0.1, affine=True, track_running_stats=True)\n",
            "      (6): ReLU(inplace=True)\n",
            "      (7): SeparableConv2d(\n",
            "        (conv1): Conv2d(728, 728, kernel_size=(3, 3), stride=(1, 1), padding=(1, 1), groups=728, bias=False)\n",
            "        (pointwise): Conv2d(728, 728, kernel_size=(1, 1), stride=(1, 1), bias=False)\n",
            "      )\n",
            "      (8): BatchNorm2d(728, eps=1e-05, momentum=0.1, affine=True, track_running_stats=True)\n",
            "    )\n",
            "  )\n",
            "  (block9): Block(\n",
            "    (relu): ReLU(inplace=True)\n",
            "    (rep): Sequential(\n",
            "      (0): ReLU()\n",
            "      (1): SeparableConv2d(\n",
            "        (conv1): Conv2d(728, 728, kernel_size=(3, 3), stride=(1, 1), padding=(1, 1), groups=728, bias=False)\n",
            "        (pointwise): Conv2d(728, 728, kernel_size=(1, 1), stride=(1, 1), bias=False)\n",
            "      )\n",
            "      (2): BatchNorm2d(728, eps=1e-05, momentum=0.1, affine=True, track_running_stats=True)\n",
            "      (3): ReLU(inplace=True)\n",
            "      (4): SeparableConv2d(\n",
            "        (conv1): Conv2d(728, 728, kernel_size=(3, 3), stride=(1, 1), padding=(1, 1), groups=728, bias=False)\n",
            "        (pointwise): Conv2d(728, 728, kernel_size=(1, 1), stride=(1, 1), bias=False)\n",
            "      )\n",
            "      (5): BatchNorm2d(728, eps=1e-05, momentum=0.1, affine=True, track_running_stats=True)\n",
            "      (6): ReLU(inplace=True)\n",
            "      (7): SeparableConv2d(\n",
            "        (conv1): Conv2d(728, 728, kernel_size=(3, 3), stride=(1, 1), padding=(1, 1), groups=728, bias=False)\n",
            "        (pointwise): Conv2d(728, 728, kernel_size=(1, 1), stride=(1, 1), bias=False)\n",
            "      )\n",
            "      (8): BatchNorm2d(728, eps=1e-05, momentum=0.1, affine=True, track_running_stats=True)\n",
            "    )\n",
            "  )\n",
            "  (block10): Block(\n",
            "    (relu): ReLU(inplace=True)\n",
            "    (rep): Sequential(\n",
            "      (0): ReLU()\n",
            "      (1): SeparableConv2d(\n",
            "        (conv1): Conv2d(728, 728, kernel_size=(3, 3), stride=(1, 1), padding=(1, 1), groups=728, bias=False)\n",
            "        (pointwise): Conv2d(728, 728, kernel_size=(1, 1), stride=(1, 1), bias=False)\n",
            "      )\n",
            "      (2): BatchNorm2d(728, eps=1e-05, momentum=0.1, affine=True, track_running_stats=True)\n",
            "      (3): ReLU(inplace=True)\n",
            "      (4): SeparableConv2d(\n",
            "        (conv1): Conv2d(728, 728, kernel_size=(3, 3), stride=(1, 1), padding=(1, 1), groups=728, bias=False)\n",
            "        (pointwise): Conv2d(728, 728, kernel_size=(1, 1), stride=(1, 1), bias=False)\n",
            "      )\n",
            "      (5): BatchNorm2d(728, eps=1e-05, momentum=0.1, affine=True, track_running_stats=True)\n",
            "      (6): ReLU(inplace=True)\n",
            "      (7): SeparableConv2d(\n",
            "        (conv1): Conv2d(728, 728, kernel_size=(3, 3), stride=(1, 1), padding=(1, 1), groups=728, bias=False)\n",
            "        (pointwise): Conv2d(728, 728, kernel_size=(1, 1), stride=(1, 1), bias=False)\n",
            "      )\n",
            "      (8): BatchNorm2d(728, eps=1e-05, momentum=0.1, affine=True, track_running_stats=True)\n",
            "    )\n",
            "  )\n",
            "  (block11): Block(\n",
            "    (relu): ReLU(inplace=True)\n",
            "    (rep): Sequential(\n",
            "      (0): ReLU()\n",
            "      (1): SeparableConv2d(\n",
            "        (conv1): Conv2d(728, 728, kernel_size=(3, 3), stride=(1, 1), padding=(1, 1), groups=728, bias=False)\n",
            "        (pointwise): Conv2d(728, 728, kernel_size=(1, 1), stride=(1, 1), bias=False)\n",
            "      )\n",
            "      (2): BatchNorm2d(728, eps=1e-05, momentum=0.1, affine=True, track_running_stats=True)\n",
            "      (3): ReLU(inplace=True)\n",
            "      (4): SeparableConv2d(\n",
            "        (conv1): Conv2d(728, 728, kernel_size=(3, 3), stride=(1, 1), padding=(1, 1), groups=728, bias=False)\n",
            "        (pointwise): Conv2d(728, 728, kernel_size=(1, 1), stride=(1, 1), bias=False)\n",
            "      )\n",
            "      (5): BatchNorm2d(728, eps=1e-05, momentum=0.1, affine=True, track_running_stats=True)\n",
            "      (6): ReLU(inplace=True)\n",
            "      (7): SeparableConv2d(\n",
            "        (conv1): Conv2d(728, 728, kernel_size=(3, 3), stride=(1, 1), padding=(1, 1), groups=728, bias=False)\n",
            "        (pointwise): Conv2d(728, 728, kernel_size=(1, 1), stride=(1, 1), bias=False)\n",
            "      )\n",
            "      (8): BatchNorm2d(728, eps=1e-05, momentum=0.1, affine=True, track_running_stats=True)\n",
            "    )\n",
            "  )\n",
            "  (block12): Block(\n",
            "    (skip): Conv2d(728, 1024, kernel_size=(1, 1), stride=(2, 2), bias=False)\n",
            "    (skipbn): BatchNorm2d(1024, eps=1e-05, momentum=0.1, affine=True, track_running_stats=True)\n",
            "    (relu): ReLU(inplace=True)\n",
            "    (rep): Sequential(\n",
            "      (0): ReLU()\n",
            "      (1): SeparableConv2d(\n",
            "        (conv1): Conv2d(728, 728, kernel_size=(3, 3), stride=(1, 1), padding=(1, 1), groups=728, bias=False)\n",
            "        (pointwise): Conv2d(728, 728, kernel_size=(1, 1), stride=(1, 1), bias=False)\n",
            "      )\n",
            "      (2): BatchNorm2d(728, eps=1e-05, momentum=0.1, affine=True, track_running_stats=True)\n",
            "      (3): ReLU(inplace=True)\n",
            "      (4): SeparableConv2d(\n",
            "        (conv1): Conv2d(728, 728, kernel_size=(3, 3), stride=(1, 1), padding=(1, 1), groups=728, bias=False)\n",
            "        (pointwise): Conv2d(728, 1024, kernel_size=(1, 1), stride=(1, 1), bias=False)\n",
            "      )\n",
            "      (5): BatchNorm2d(1024, eps=1e-05, momentum=0.1, affine=True, track_running_stats=True)\n",
            "      (6): MaxPool2d(kernel_size=3, stride=2, padding=1, dilation=1, ceil_mode=False)\n",
            "    )\n",
            "  )\n",
            "  (conv3): SeparableConv2d(\n",
            "    (conv1): Conv2d(1024, 1024, kernel_size=(3, 3), stride=(1, 1), padding=(1, 1), groups=1024, bias=False)\n",
            "    (pointwise): Conv2d(1024, 1536, kernel_size=(1, 1), stride=(1, 1), bias=False)\n",
            "  )\n",
            "  (bn3): BatchNorm2d(1536, eps=1e-05, momentum=0.1, affine=True, track_running_stats=True)\n",
            "  (conv4): SeparableConv2d(\n",
            "    (conv1): Conv2d(1536, 1536, kernel_size=(3, 3), stride=(1, 1), padding=(1, 1), groups=1536, bias=False)\n",
            "    (pointwise): Conv2d(1536, 2048, kernel_size=(1, 1), stride=(1, 1), bias=False)\n",
            "  )\n",
            "  (bn4): BatchNorm2d(2048, eps=1e-05, momentum=0.1, affine=True, track_running_stats=True)\n",
            "  (last_linear): Linear(in_features=2048, out_features=1000, bias=True)\n",
            "  (fc): Linear(in_features=2048, out_features=2, bias=True)\n",
            ")\n"
          ]
        }
      ]
    },
    {
      "cell_type": "code",
      "metadata": {
        "id": "bx6VPs9x3ayg"
      },
      "source": [
        "checkpoint_path = \"/content/gdrive/MyDrive/capstone/checkpoint/best.pth.tar\"\n",
        "checkpoint_infer = load_checkpoint(checkpoint_path,tl_resnet50,None,None)"
      ],
      "execution_count": null,
      "outputs": []
    },
    {
      "cell_type": "code",
      "metadata": {
        "colab": {
          "base_uri": "https://localhost:8080/"
        },
        "id": "t3J2PmJ_3r7a",
        "outputId": "2c2d0919-b559-4c0e-b95f-a52892f0f27d"
      },
      "source": [
        "hyper_param = {\n",
        "    \"lr\": 1e-2,\n",
        "    \"batch_size\": 64,\n",
        "    \"numEpochs\": 8, \n",
        "    \"num_workers\": 4,\n",
        "    \"ckpnt_training\": \"/content/gdrive/MyDrive/capstone/checkpoint\",\n",
        "    \"checkpoint\":\"/content/gdrive/MyDrive/capstone/checkpoint/last.pth.tar\",\n",
        "    \"data_path\":\"/content/gdrive/MyDrive/capstone/data/\"\n",
        "  }\n",
        "train_dataloader, dev_dataloader,test_dataloader, num_classes = get_loader(hyper_param[\"data_path\"]\n",
        "                                                                             ,num_workers=hyper_param[\"num_workers\"]\n",
        "                                                                             ,batch_size = hyper_param[\"batch_size\"])"
      ],
      "execution_count": null,
      "outputs": [
        {
          "output_type": "stream",
          "name": "stderr",
          "text": [
            "/usr/local/lib/python3.7/dist-packages/torch/utils/data/dataloader.py:481: UserWarning: This DataLoader will create 4 worker processes in total. Our suggested max number of worker in current system is 2, which is smaller than what this DataLoader is going to create. Please be aware that excessive worker creation might get DataLoader running slow or even freeze, lower the worker number to avoid potential slowness/freeze if necessary.\n",
            "  cpuset_checked))\n"
          ]
        }
      ]
    },
    {
      "cell_type": "code",
      "metadata": {
        "id": "_jjik7MA40tr"
      },
      "source": [
        ""
      ],
      "execution_count": null,
      "outputs": []
    },
    {
      "cell_type": "code",
      "metadata": {
        "colab": {
          "base_uri": "https://localhost:8080/"
        },
        "id": "wlFBckgj3w-B",
        "outputId": "d2941f84-7e2c-469a-deea-5ea24724399e"
      },
      "source": [
        "avg_loss_test, acc_test = infer_classfication(tl_resnet50,test_dataloader,[])\n",
        "print(f\"*** Classifier <-> Feature Extractor\\n [Test] Loss:{avg_loss_test} \\t Accuracy:{acc_test} \")"
      ],
      "execution_count": null,
      "outputs": [
        {
          "output_type": "stream",
          "name": "stderr",
          "text": [
            "/usr/local/lib/python3.7/dist-packages/torch/utils/data/dataloader.py:481: UserWarning: This DataLoader will create 4 worker processes in total. Our suggested max number of worker in current system is 2, which is smaller than what this DataLoader is going to create. Please be aware that excessive worker creation might get DataLoader running slow or even freeze, lower the worker number to avoid potential slowness/freeze if necessary.\n",
            "  cpuset_checked))\n"
          ]
        },
        {
          "output_type": "stream",
          "name": "stdout",
          "text": [
            "*** Classifier <-> Feature Extractor\n",
            " [Test] Loss:0.03361754225446813 \t Accuracy:89.03225806451613 \n"
          ]
        }
      ]
    },
    {
      "cell_type": "code",
      "metadata": {
        "colab": {
          "base_uri": "https://localhost:8080/"
        },
        "id": "mQ6zt3e841G0",
        "outputId": "c0508426-e47c-463e-e708-b995095dddf9"
      },
      "source": [
        "data_iter = iter(test_dataloader)\n",
        "images,_ = next(data_iter)\n",
        "_,_,_,c3 = tl_resnet50(images[0].reshape(1,3,224,224).to(device))"
      ],
      "execution_count": null,
      "outputs": [
        {
          "output_type": "stream",
          "name": "stderr",
          "text": [
            "/usr/local/lib/python3.7/dist-packages/torch/utils/data/dataloader.py:481: UserWarning: This DataLoader will create 4 worker processes in total. Our suggested max number of worker in current system is 2, which is smaller than what this DataLoader is going to create. Please be aware that excessive worker creation might get DataLoader running slow or even freeze, lower the worker number to avoid potential slowness/freeze if necessary.\n",
            "  cpuset_checked))\n",
            "/usr/local/lib/python3.7/dist-packages/torch/nn/functional.py:718: UserWarning: Named tensors and all their associated APIs are an experimental feature and subject to change. Please do not use them for anything important until they are released as stable. (Triggered internally at  /pytorch/c10/core/TensorImpl.h:1156.)\n",
            "  return torch.max_pool2d(input, kernel_size, stride, padding, dilation, ceil_mode)\n"
          ]
        }
      ]
    },
    {
      "cell_type": "code",
      "metadata": {
        "id": "6Fu4CXo1Qu9c"
      },
      "source": [
        "\n",
        "import cv2\n",
        "\n",
        "\n",
        "def visualize_attn_softmax(I, c, up_factor, nrow):\n",
        "    # image\n",
        "    img = I.permute((1,2,0)).cpu().numpy()\n",
        "    # compute the heatmap\n",
        "    N,C,W,H = c.size()\n",
        "    a = F.softmax(c.view(N,C,-1), dim=2).view(N,C,W,H)\n",
        "    a = F.interpolate(a, scale_factor=up_factor, mode='bilinear', align_corners=False)\n",
        "    print('###############',a.size())\n",
        "    #if up_factor > 1:\n",
        "    #    a = F.interpolate(a, scale_factor=up_factor, mode='bilinear', align_corners=False)\n",
        "    attn = utils.make_grid(a, nrow=nrow, normalize=True, scale_each=True)\n",
        "    attn = attn.permute((1,2,0)).mul(255).byte().cpu().numpy()\n",
        "    attn = cv2.applyColorMap(attn, cv2.COLORMAP_JET)\n",
        "    attn = cv2.cvtColor(attn, cv2.COLOR_BGR2RGB)\n",
        "    attn = np.float32(attn) / 255\n",
        "    # add the heatmap to the image\n",
        "    vis = 0.6 * img + 0.4 * attn\n",
        "    return torch.from_numpy(vis).permute(2,0,1)"
      ],
      "execution_count": null,
      "outputs": []
    },
    {
      "cell_type": "markdown",
      "metadata": {
        "id": "kGftBbq4RHIg"
      },
      "source": [
        ""
      ]
    },
    {
      "cell_type": "code",
      "metadata": {
        "id": "g8YW_bhC9_JT"
      },
      "source": [
        "img = utils.make_grid(images[0].view(1,3,224,224), nrow=1, normalize=True, scale_each=True)"
      ],
      "execution_count": null,
      "outputs": []
    },
    {
      "cell_type": "code",
      "metadata": {
        "colab": {
          "base_uri": "https://localhost:8080/",
          "height": 303
        },
        "id": "VzADmqj5ShjH",
        "outputId": "c8fe85ce-1b69-4779-9e50-510bc945ebad"
      },
      "source": [
        "plt.imshow(visualize_attn_softmax(img,c3,32,nrow=1).permute(1,2,0))"
      ],
      "execution_count": null,
      "outputs": [
        {
          "output_type": "stream",
          "name": "stdout",
          "text": [
            "############### torch.Size([1, 1, 224, 224])\n"
          ]
        },
        {
          "output_type": "execute_result",
          "data": {
            "text/plain": [
              "<matplotlib.image.AxesImage at 0x7fd5057f3110>"
            ]
          },
          "metadata": {},
          "execution_count": 26
        },
        {
          "output_type": "display_data",
          "data": {
            "image/png": "[encoded data removed]",
            "text/plain": [
              "<Figure size 432x288 with 1 Axes>"
            ]
          },
          "metadata": {
            "needs_background": "light"
          }
        }
      ]
    },
    {
      "cell_type": "code",
      "metadata": {
        "id": "UNqjufBm5TNU"
      },
      "source": [
        ""
      ],
      "execution_count": null,
      "outputs": []
    }
  ]
}